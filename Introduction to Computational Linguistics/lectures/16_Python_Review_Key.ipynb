{
 "cells": [
  {
   "cell_type": "markdown",
   "id": "8067d914",
   "metadata": {},
   "source": [
    "# Python Refresher Exercises"
   ]
  },
  {
   "cell_type": "markdown",
   "id": "40a25939",
   "metadata": {},
   "source": [
    "## Python Basics"
   ]
  },
  {
   "cell_type": "markdown",
   "id": "4516302d",
   "metadata": {},
   "source": [
    "#### 1."
   ]
  },
  {
   "cell_type": "markdown",
   "id": "0d2d4016",
   "metadata": {},
   "source": [
    "## Built-in data types"
   ]
  },
  {
   "cell_type": "markdown",
   "id": "f7b9261e",
   "metadata": {},
   "source": [
    "For the following, first import `'carroll-alice.txt'` from the Gutenberg corpus and save the raw text (a very very long string) to the variable `alice` using the following:"
   ]
  },
  {
   "cell_type": "code",
   "execution_count": 25,
   "id": "4a28ef67",
   "metadata": {},
   "outputs": [],
   "source": [
    "import nltk\n",
    "alice = nltk.corpus.gutenberg.raw('carroll-alice.txt')"
   ]
  },
  {
   "cell_type": "markdown",
   "id": "9d075f68",
   "metadata": {},
   "source": [
    "### Numbers"
   ]
  },
  {
   "cell_type": "markdown",
   "id": "9923619f",
   "metadata": {},
   "source": [
    "#### 1. How many characters are in `alice`? (i.e. How long is the string?)"
   ]
  },
  {
   "cell_type": "code",
   "execution_count": 27,
   "id": "2b97e8f2",
   "metadata": {},
   "outputs": [
    {
     "data": {
      "text/plain": [
       "144395"
      ]
     },
     "execution_count": 27,
     "metadata": {},
     "output_type": "execute_result"
    }
   ],
   "source": [
    "len(alice)"
   ]
  },
  {
   "cell_type": "markdown",
   "id": "105b897b",
   "metadata": {},
   "source": [
    "#### 2. How many times does the word \"tree\" appear in `alice`?"
   ]
  },
  {
   "cell_type": "code",
   "execution_count": 35,
   "id": "8ecd4da6",
   "metadata": {},
   "outputs": [
    {
     "data": {
      "text/plain": [
       "8154"
      ]
     },
     "execution_count": 35,
     "metadata": {},
     "output_type": "execute_result"
    }
   ],
   "source": [
    "alice.count(\"a\")"
   ]
  },
  {
   "cell_type": "markdown",
   "id": "298f5714",
   "metadata": {},
   "source": [
    "#### What percentage of the `alice` text consists of the word \"tree\"?"
   ]
  },
  {
   "cell_type": "code",
   "execution_count": 38,
   "id": "557ee21b",
   "metadata": {},
   "outputs": [
    {
     "data": {
      "text/plain": [
       "0.00685619308147789"
      ]
     },
     "execution_count": 38,
     "metadata": {},
     "output_type": "execute_result"
    }
   ],
   "source": [
    "alice.count(\"to\")/len(alice)"
   ]
  },
  {
   "cell_type": "markdown",
   "id": "2eac0acb",
   "metadata": {},
   "source": [
    "### Strings"
   ]
  },
  {
   "cell_type": "markdown",
   "id": "ebf70445",
   "metadata": {},
   "source": [
    "### Lists"
   ]
  },
  {
   "cell_type": "markdown",
   "id": "a9730da3",
   "metadata": {},
   "source": [
    "### Sets"
   ]
  },
  {
   "cell_type": "markdown",
   "id": "8a1feb55",
   "metadata": {},
   "source": [
    "### Tuples"
   ]
  },
  {
   "cell_type": "markdown",
   "id": "baa7f495",
   "metadata": {},
   "source": [
    "### Dictionaries"
   ]
  }
 ],
 "metadata": {
  "kernelspec": {
   "display_name": "Python 3",
   "language": "python",
   "name": "python3"
  },
  "language_info": {
   "codemirror_mode": {
    "name": "ipython",
    "version": 3
   },
   "file_extension": ".py",
   "mimetype": "text/x-python",
   "name": "python",
   "nbconvert_exporter": "python",
   "pygments_lexer": "ipython3",
   "version": "3.8.8"
  }
 },
 "nbformat": 4,
 "nbformat_minor": 5
}
