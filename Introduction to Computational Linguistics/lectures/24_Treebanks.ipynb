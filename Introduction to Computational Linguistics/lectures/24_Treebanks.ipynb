{
 "cells": [
  {
   "cell_type": "markdown",
   "id": "6f12afd9",
   "metadata": {
    "slideshow": {
     "slide_type": "slide"
    }
   },
   "source": [
    "<h1><center>Lecture 24:<br>Treebanks<br></center></h1><h2><center>Thursday April 7 2022<br></center></h2>\n",
    "\n",
    "\n",
    "<center><img src=\"https://www.nltk.org/book/tree_images/ch08-tree-4.png\" width=800 height=800 /></center>"
   ]
  },
  {
   "cell_type": "markdown",
   "id": "08eaeccc",
   "metadata": {
    "slideshow": {
     "slide_type": "slide"
    }
   },
   "source": [
    "# Updates\n",
    "\n",
    "## Today: Context Free Grammars continued\n",
    "* We will go over Tuesday's lecture\n",
    "* HW 9 Due tonight (extended from Tuesday)\n",
    "    * For Question 1c, your code wont work (but include it anyways)!\n",
    "* Quiz 11 Due tonight\n",
    "* HW 10 Due Tuesday\n",
    "\n",
    "* Reminder:\n",
    "    * Computational Linguistics seminar tomorrow 3:30pm\n",
    "\n",
    "### Questions, comments, concerns?"
   ]
  },
  {
   "cell_type": "markdown",
   "id": "2bad877d",
   "metadata": {
    "slideshow": {
     "slide_type": "slide"
    }
   },
   "source": [
    "# Recursive descent parser\n",
    "* An interactive app built into NLTK to create grammars/structures"
   ]
  },
  {
   "cell_type": "code",
   "execution_count": 1,
   "id": "8692523c",
   "metadata": {
    "slideshow": {
     "slide_type": "fragment"
    }
   },
   "outputs": [],
   "source": [
    "import nltk\n",
    "nltk.app.rdparser()"
   ]
  },
  {
   "cell_type": "markdown",
   "id": "76e164c9",
   "metadata": {
    "slideshow": {
     "slide_type": "slide"
    }
   },
   "source": [
    "# Recursion "
   ]
  },
  {
   "cell_type": "markdown",
   "id": "7263eb53",
   "metadata": {
    "slideshow": {
     "slide_type": "fragment"
    }
   },
   "source": [
    "* NLTK only allows for right-recursive productions\n",
    "    * Ex: S -> NP VP and VP -> V S\n",
    "    * The dog thought the cat looked scary.\n",
    "    * Ex: NP -> Adj NP\n",
    "    * loud birds\n",
    "* Does not support left-recursive productions\n",
    "    * Ex: X -> X Y"
   ]
  },
  {
   "cell_type": "markdown",
   "id": "862c5006",
   "metadata": {
    "slideshow": {
     "slide_type": "slide"
    }
   },
   "source": [
    "# Penn Treebank corpus\n",
    "* Annotated corpus of sentences taken from Wall Street Journal\n",
    "* We can view a portion of it with NLTK"
   ]
  },
  {
   "cell_type": "code",
   "execution_count": 1,
   "id": "41db524d",
   "metadata": {
    "slideshow": {
     "slide_type": "fragment"
    }
   },
   "outputs": [],
   "source": [
    "import nltk\n",
    "# nltk.download(\"treebank\")\n",
    "from nltk.corpus import treebank\n",
    "#nltk.corpus.treebank.fileids()"
   ]
  },
  {
   "cell_type": "code",
   "execution_count": 1,
   "id": "43709cce",
   "metadata": {
    "slideshow": {
     "slide_type": "fragment"
    }
   },
   "outputs": [
    {
     "ename": "NameError",
     "evalue": "name 'treebank' is not defined",
     "output_type": "error",
     "traceback": [
      "\u001b[0;31m---------------------------------------------------------------------------\u001b[0m",
      "\u001b[0;31mNameError\u001b[0m                                 Traceback (most recent call last)",
      "\u001b[0;32m<ipython-input-1-782e32e984eb>\u001b[0m in \u001b[0;36m<module>\u001b[0;34m\u001b[0m\n\u001b[0;32m----> 1\u001b[0;31m \u001b[0mt\u001b[0m \u001b[0;34m=\u001b[0m \u001b[0mtreebank\u001b[0m\u001b[0;34m.\u001b[0m\u001b[0mparsed_sents\u001b[0m\u001b[0;34m(\u001b[0m\u001b[0;34m'wsj_0010.mrg'\u001b[0m\u001b[0;34m)\u001b[0m\u001b[0;34m.\u001b[0m\u001b[0mdraw\u001b[0m\u001b[0;34m(\u001b[0m\u001b[0;34m)\u001b[0m\u001b[0;34m\u001b[0m\u001b[0;34m\u001b[0m\u001b[0m\n\u001b[0m\u001b[1;32m      2\u001b[0m \u001b[0mprint\u001b[0m\u001b[0;34m(\u001b[0m\u001b[0mt\u001b[0m\u001b[0;34m)\u001b[0m\u001b[0;34m\u001b[0m\u001b[0;34m\u001b[0m\u001b[0m\n",
      "\u001b[0;31mNameError\u001b[0m: name 'treebank' is not defined"
     ]
    }
   ],
   "source": [
    "t = treebank.parsed_sents('wsj_0010.mrg').draw()\n",
    "print(t)"
   ]
  },
  {
   "cell_type": "code",
   "execution_count": 4,
   "id": "58456654",
   "metadata": {
    "slideshow": {
     "slide_type": "fragment"
    }
   },
   "outputs": [],
   "source": [
    "t.draw()"
   ]
  }
 ],
 "metadata": {
  "celltoolbar": "Slideshow",
  "kernelspec": {
   "display_name": "Python 3",
   "language": "python",
   "name": "python3"
  },
  "language_info": {
   "codemirror_mode": {
    "name": "ipython",
    "version": 3
   },
   "file_extension": ".py",
   "mimetype": "text/x-python",
   "name": "python",
   "nbconvert_exporter": "python",
   "pygments_lexer": "ipython3",
   "version": "3.8.8"
  }
 },
 "nbformat": 4,
 "nbformat_minor": 5
}
