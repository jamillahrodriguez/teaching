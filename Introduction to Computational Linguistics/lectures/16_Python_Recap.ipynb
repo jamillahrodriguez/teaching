{
 "cells": [
  {
   "cell_type": "markdown",
   "id": "6f12afd9",
   "metadata": {
    "slideshow": {
     "slide_type": "slide"
    }
   },
   "source": [
    "<h1><center>Lecture 16:<br>Python Refresh!<br></center></h1><h2><center>Tuesday Mar 7 2023<br></center></h2>\n",
    "\n",
    "\n",
    "<center><img src=\"https://miro.medium.com/max/1400/1*SRFVbPL0SFAmJiPs4NgJkQ.jpeg\" width=800 height=800 /></center>"
   ]
  },
  {
   "cell_type": "markdown",
   "id": "08eaeccc",
   "metadata": {
    "slideshow": {
     "slide_type": "slide"
    }
   },
   "source": [
    "# Updates\n",
    "\n",
    "### Today\n",
    "\n",
    "* This week will be dedicated to reviewing all the Python we've encountered so far.\n",
    "    * Ask many questions!!\n",
    "\n",
    "* <s>Quiz 9 due Friday</s> - No quiz this week!\n",
    "* HW 4 is fairly short\n",
    "    * Officially due 3/21\n",
    "* Complete final project survey today\n",
    "\n",
    "\n",
    "### Next week: Spring Break!\n",
    "Relax and get some sun!"
   ]
  },
  {
   "cell_type": "markdown",
   "id": "18c2c17c",
   "metadata": {
    "slideshow": {
     "slide_type": "slide"
    }
   },
   "source": [
    "# Quiz 8 Review"
   ]
  },
  {
   "cell_type": "markdown",
   "id": "622bd38e",
   "metadata": {
    "slideshow": {
     "slide_type": "fragment"
    }
   },
   "source": [
    "1. Using the Chain rule on bigrams, what is the probability (to the nearest hundredth) that you would get the sentence \"Atlas saw a deer\" based on the following data? Do not transform to a log.\n",
    "\n",
    "\\<s> Atlas saw a squirrel and a deer \\</s>\n",
    "\n",
    "\\<s> Atlas screamed happily at the squirrel \\</s>\n",
    "\n",
    "\\<s> The squirrel saw a deer \\</s>\n",
    "\n",
    "\\<s> The deer and squirrel ran away \\</s>\n",
    "\n",
    "\\<s> Atlas cried \\</s>"
   ]
  },
  {
   "cell_type": "markdown",
   "id": "d2633eb0",
   "metadata": {
    "slideshow": {
     "slide_type": "fragment"
    }
   },
   "source": [
    "$P(\\text{Atlas}|\\text{<s>})$ x $P(\\text{saw}|\\text{Atlas})$ x $P(\\text{a}|\\text{saw})$ x $P(\\text{deer}|\\text{a})$ x $P(\\text{</s>}|\\text{deer})$"
   ]
  },
  {
   "cell_type": "markdown",
   "id": "874a086c",
   "metadata": {
    "slideshow": {
     "slide_type": "fragment"
    }
   },
   "source": [
    "$\\frac{3}{5}$ x $\\frac{1}{3}$ x $\\frac{2}{2}$ x $\\frac{2}{3}$ x $\\frac{2}{3}$ = 0.9"
   ]
  },
  {
   "cell_type": "markdown",
   "id": "3b858ae0",
   "metadata": {
    "slideshow": {
     "slide_type": "slide"
    }
   },
   "source": [
    "2. List all the trigrams for the following sentence:\n",
    "\n",
    "\"We do not talk about Bruno\""
   ]
  },
  {
   "cell_type": "markdown",
   "id": "427afb5a",
   "metadata": {
    "slideshow": {
     "slide_type": "fragment"
    }
   },
   "source": [
    "\\<s> We do<br>\n",
    "We do not<br>\n",
    "do not talk<br>\n",
    "not talk about<br>\n",
    "talk about Bruno <br>\n",
    "about Bruno \\</s>"
   ]
  },
  {
   "cell_type": "markdown",
   "id": "85d616f9",
   "metadata": {
    "slideshow": {
     "slide_type": "slide"
    }
   },
   "source": [
    "3. Perplexity is an intrinsic evaluation method for a language model.\n",
    "\n",
    "True"
   ]
  },
  {
   "cell_type": "markdown",
   "id": "9b885aab",
   "metadata": {
    "slideshow": {
     "slide_type": "slide"
    }
   },
   "source": [
    "4. A good language model maximizes probability and perplexity.\n",
    "\n",
    "False"
   ]
  },
  {
   "cell_type": "markdown",
   "id": "a90b5546",
   "metadata": {
    "slideshow": {
     "slide_type": "slide"
    }
   },
   "source": [
    "# Okay! Let's go back in time.\n",
    "\n",
    "* Questions about specific areas from earlier in the course?"
   ]
  },
  {
   "cell_type": "markdown",
   "id": "5952e757",
   "metadata": {
    "slideshow": {
     "slide_type": "slide"
    }
   },
   "source": [
    "# Okay! Let's go back in time.\n",
    "\n",
    "* I will give you some short exercises. If you feel comfortable completing the exercises, check that area off on the Python Checklist!\n",
    "* This is a great time to ask for clarifications on _everything_."
   ]
  },
  {
   "cell_type": "markdown",
   "id": "805f69e7",
   "metadata": {
    "slideshow": {
     "slide_type": "slide"
    }
   },
   "source": [
    "## Print statements\n",
    "1. Create a variable, `name` and save the string \"Nandor\" to the variable. Print \"Happy Birthday, (insert name)!\" where the name is the variable `name`."
   ]
  },
  {
   "cell_type": "markdown",
   "id": "efb872db",
   "metadata": {
    "slideshow": {
     "slide_type": "slide"
    }
   },
   "source": [
    "1. Create a variable, `name` and save the string \"Nandor\" to the variable. Print \"Happy Birthday, (insert name)!\" where the name is the variable `name`."
   ]
  },
  {
   "cell_type": "code",
   "execution_count": 2,
   "id": "ab380da8",
   "metadata": {
    "slideshow": {
     "slide_type": "fragment"
    }
   },
   "outputs": [
    {
     "name": "stdout",
     "output_type": "stream",
     "text": [
      "Happy Birthday, Nandor!\n"
     ]
    }
   ],
   "source": [
    "name = \"Nandor\"\n",
    "print(\"Happy Birthday,\", name+ \"!\")"
   ]
  },
  {
   "cell_type": "markdown",
   "id": "c3fcaa2f",
   "metadata": {
    "slideshow": {
     "slide_type": "slide"
    }
   },
   "source": [
    "## User inputs\n",
    "\n",
    "1. Ask a user for the city they were born and save it to a variable `city`.\n",
    "2. Ask a user how many times they have traveled abroad and save it to a variable `travel`. Then print \"Wow... I've traveled (insert how many times the user has traveled multiplied by 5) times!\""
   ]
  },
  {
   "cell_type": "markdown",
   "id": "4afb80d8",
   "metadata": {
    "slideshow": {
     "slide_type": "slide"
    }
   },
   "source": [
    "1. Ask a user for the city they were born and save it to a variable `city`."
   ]
  },
  {
   "cell_type": "code",
   "execution_count": 3,
   "id": "9f9cc9ea",
   "metadata": {
    "slideshow": {
     "slide_type": "fragment"
    }
   },
   "outputs": [
    {
     "name": "stdout",
     "output_type": "stream",
     "text": [
      "What city were you born in? Binghamton\n"
     ]
    }
   ],
   "source": [
    "city = input(\"What city were you born in? \")"
   ]
  },
  {
   "cell_type": "markdown",
   "id": "8a722f72",
   "metadata": {
    "slideshow": {
     "slide_type": "slide"
    }
   },
   "source": [
    "2. Ask a user how many times they have traveled abroad and save it to a variable `travel`. Then print \"Wow... I've traveled (insert how many times the user has traveled multiplied by 5) times!\""
   ]
  },
  {
   "cell_type": "code",
   "execution_count": 5,
   "id": "32fad034",
   "metadata": {
    "slideshow": {
     "slide_type": "fragment"
    }
   },
   "outputs": [
    {
     "name": "stdout",
     "output_type": "stream",
     "text": [
      "How many times have you traveled abroad? 6\n",
      "Wow... I've traveled 66666 times!\n"
     ]
    }
   ],
   "source": [
    "travel = eval(input(\"How many times have you traveled abroad? \"))\n",
    "print(\"Wow... I've traveled\", travel*5, \"times!\")"
   ]
  },
  {
   "cell_type": "markdown",
   "id": "c53d2ac1",
   "metadata": {
    "slideshow": {
     "slide_type": "slide"
    }
   },
   "source": [
    "## Built-in data types: Numbers\n",
    "\n",
    "1. What is the difference between 10/5 and 10//5?\n",
    "\n",
    "2. Given an alphabet of 26 letters, there are 26 to the power 10, or 26 ** 10, ten-letter strings we can form. That works out to 141167095653376. How many hundred-letter strings are possible?\n",
    "\n",
    "3. How many characters are in `\"carroll-alice.txt\"` from the Gutenberg corpus? (Remember to `import nltk` and use `nltk.corpus.gutenberg.raw(\"carroll-alice.txt\")` to get raw text).<br>"
   ]
  },
  {
   "cell_type": "markdown",
   "id": "00f28b75",
   "metadata": {
    "slideshow": {
     "slide_type": "slide"
    }
   },
   "source": [
    "1. What is the difference between 10/5 and 10//5?"
   ]
  },
  {
   "cell_type": "code",
   "execution_count": 6,
   "id": "9c27e545",
   "metadata": {
    "slideshow": {
     "slide_type": "fragment"
    }
   },
   "outputs": [
    {
     "name": "stdout",
     "output_type": "stream",
     "text": [
      "2.0\n",
      "2\n"
     ]
    }
   ],
   "source": [
    "print(10/5) # integer\n",
    "print(10//5) # float"
   ]
  },
  {
   "cell_type": "markdown",
   "id": "28901a14",
   "metadata": {
    "slideshow": {
     "slide_type": "slide"
    }
   },
   "source": [
    "2. Given an alphabet of 26 letters, there are 26 to the power 10, or 26 ** 10, ten-letter strings we can form. That works out to 141167095653376. How many hundred-letter strings are possible?"
   ]
  },
  {
   "cell_type": "code",
   "execution_count": 7,
   "id": "735bd669",
   "metadata": {
    "slideshow": {
     "slide_type": "fragment"
    }
   },
   "outputs": [
    {
     "data": {
      "text/plain": [
       "3142930641582938830174357788501626427282669988762475256374173175398995908420104023465432599069702289330964075081611719197835869803511992549376"
      ]
     },
     "execution_count": 7,
     "metadata": {},
     "output_type": "execute_result"
    }
   ],
   "source": [
    "26**100 # A really huge number"
   ]
  },
  {
   "cell_type": "markdown",
   "id": "ce112c60",
   "metadata": {
    "slideshow": {
     "slide_type": "slide"
    }
   },
   "source": [
    "3. How many characters are in `\"carroll-alice.txt\"` from the Gutenberg corpus?<br>"
   ]
  },
  {
   "cell_type": "code",
   "execution_count": 2,
   "id": "7d4ad903",
   "metadata": {
    "slideshow": {
     "slide_type": "fragment"
    }
   },
   "outputs": [],
   "source": [
    "import nltk\n",
    "from nltk.corpus import gutenberg # Gutenberg corpus\n",
    "alice = gutenberg.raw(\"carroll-alice.txt\") # 'Raw' text - a really, really long string"
   ]
  },
  {
   "cell_type": "code",
   "execution_count": 4,
   "id": "ab8bbcf2",
   "metadata": {
    "slideshow": {
     "slide_type": "fragment"
    }
   },
   "outputs": [
    {
     "data": {
      "text/plain": [
       "144395"
      ]
     },
     "execution_count": 4,
     "metadata": {},
     "output_type": "execute_result"
    }
   ],
   "source": [
    "len(alice)"
   ]
  },
  {
   "cell_type": "markdown",
   "id": "e02d407a",
   "metadata": {
    "slideshow": {
     "slide_type": "slide"
    }
   },
   "source": [
    "## Built-in data types: Strings\n",
    "\n",
    "`x = \" \" or x = ' '`\n",
    "\n",
    "* Things to keep in mind:\n",
    "    * Strings are ordered and can be indexed.\n",
    "    * Anything in quotes is _literally_ as it appears (e.g. &, +, *...) "
   ]
  },
  {
   "cell_type": "markdown",
   "id": "3b4a9968",
   "metadata": {
    "slideshow": {
     "slide_type": "slide"
    }
   },
   "source": [
    "## Built-in data types: Strings\n",
    "\n",
    "1. Create a list `x = [\"T\", \"G\", \"I\", \"A\", \"S\", \"B\"]`. Join the list into an acronym \"T.G.I.A.S.B\" (Thank Goodness Its Almost Spring Break).\n",
    "\n",
    "2. Use indices to get the **second** word from the sentence \"Atlas loves him some lentils\".\n",
    "\n",
    "3. Now, convert all of the letters in \"Atlas loves him some lentils\" to uppercase."
   ]
  },
  {
   "cell_type": "markdown",
   "id": "47ceb5ca",
   "metadata": {
    "slideshow": {
     "slide_type": "slide"
    }
   },
   "source": [
    "1. Create a list `x = [\"T\", \"G\", \"I\", \"A\", \"S\", \"B\"]`. Join the list into an acronym \"T.G.I.A.S.B\" (Thank Goodness Its Almost Spring Break)."
   ]
  },
  {
   "cell_type": "code",
   "execution_count": 8,
   "id": "19387167",
   "metadata": {
    "slideshow": {
     "slide_type": "fragment"
    }
   },
   "outputs": [
    {
     "data": {
      "text/plain": [
       "'T.G.I.A.S.B'"
      ]
     },
     "execution_count": 8,
     "metadata": {},
     "output_type": "execute_result"
    }
   ],
   "source": [
    "x = [\"T\", \"G\", \"I\", \"A\", \"S\", \"B\"]\n",
    "\".\".join(x)"
   ]
  },
  {
   "cell_type": "markdown",
   "id": "1faec6b7",
   "metadata": {
    "slideshow": {
     "slide_type": "slide"
    }
   },
   "source": [
    "2. Use indices to get the **second** word from the sentence \"Atlas loves him some lentils\"."
   ]
  },
  {
   "cell_type": "code",
   "execution_count": 12,
   "id": "877ccd06",
   "metadata": {
    "slideshow": {
     "slide_type": "fragment"
    }
   },
   "outputs": [
    {
     "data": {
      "text/plain": [
       "'loves'"
      ]
     },
     "execution_count": 12,
     "metadata": {},
     "output_type": "execute_result"
    }
   ],
   "source": [
    "x = \"Atlas loves him some lentils\"\n",
    "x[6:11]"
   ]
  },
  {
   "cell_type": "markdown",
   "id": "97a78fef",
   "metadata": {
    "slideshow": {
     "slide_type": "slide"
    }
   },
   "source": [
    "3. Now, convert all of the letters in \"Atlas loves him some lentils\" to uppercase."
   ]
  },
  {
   "cell_type": "code",
   "execution_count": 13,
   "id": "5880aca0",
   "metadata": {
    "slideshow": {
     "slide_type": "fragment"
    }
   },
   "outputs": [
    {
     "data": {
      "text/plain": [
       "'ATLAS LOVES HIM SOME LENTILS'"
      ]
     },
     "execution_count": 13,
     "metadata": {},
     "output_type": "execute_result"
    }
   ],
   "source": [
    "x.upper()"
   ]
  },
  {
   "cell_type": "markdown",
   "id": "f259ff5d",
   "metadata": {
    "slideshow": {
     "slide_type": "slide"
    }
   },
   "source": [
    "## Built-in data types: Lists\n",
    "\n",
    "`x = [a,b,c,d...]`\n",
    "\n",
    "* Things to keep in mind:\n",
    "    * Items in lists are ordered"
   ]
  },
  {
   "cell_type": "markdown",
   "id": "7bfedc60",
   "metadata": {
    "slideshow": {
     "slide_type": "slide"
    }
   },
   "source": [
    "## Built-in data types: Lists\n",
    "\n",
    "1. Create a string `\"There's no place like home\"` and save it to a variable `oz`. Transform this string into a list.\n",
    "\n",
    "2. Create a list `randomList` which contains `[\"red\", \"orange\", \"yellow\", \"green\", \"blue\", \"violet\"]`. Sort all the words alphabetically in `randomList`. what is the last word in the list?"
   ]
  },
  {
   "cell_type": "markdown",
   "id": "9ddb850e",
   "metadata": {
    "slideshow": {
     "slide_type": "slide"
    }
   },
   "source": [
    "1. Create a string `\"There's no place like home\"` and save it to a variable `oz`. Create a list of sorted words from this string."
   ]
  },
  {
   "cell_type": "code",
   "execution_count": 25,
   "id": "41497166",
   "metadata": {
    "slideshow": {
     "slide_type": "fragment"
    }
   },
   "outputs": [
    {
     "data": {
      "text/plain": [
       "[\"There's\", 'home', 'like', 'no', 'place']"
      ]
     },
     "execution_count": 25,
     "metadata": {},
     "output_type": "execute_result"
    }
   ],
   "source": [
    "oz = \"There's no place like home\"\n",
    "oz = oz.split()\n",
    "sorted(oz)"
   ]
  },
  {
   "cell_type": "markdown",
   "id": "2c9505c1",
   "metadata": {
    "slideshow": {
     "slide_type": "slide"
    }
   },
   "source": [
    "2. Create a list `randomList` which contains `[\"red\", \"orange\", \"yellow\", \"green\", \"blue\", \"violet\"]`. Sort all the words alphabetically in `randomList`. what is the last word in the list?"
   ]
  },
  {
   "cell_type": "code",
   "execution_count": 15,
   "id": "ba65af03",
   "metadata": {
    "slideshow": {
     "slide_type": "fragment"
    }
   },
   "outputs": [
    {
     "data": {
      "text/plain": [
       "'yellow'"
      ]
     },
     "execution_count": 15,
     "metadata": {},
     "output_type": "execute_result"
    }
   ],
   "source": [
    "randomList = [\"red\", \"orange\", \"yellow\", \"green\", \"blue\", \"violet\"]\n",
    "randomList.sort()\n",
    "randomList[-1]"
   ]
  },
  {
   "cell_type": "code",
   "execution_count": 16,
   "id": "b138acf5",
   "metadata": {
    "slideshow": {
     "slide_type": "fragment"
    }
   },
   "outputs": [
    {
     "data": {
      "text/plain": [
       "'yellow'"
      ]
     },
     "execution_count": 16,
     "metadata": {},
     "output_type": "execute_result"
    }
   ],
   "source": [
    "randomList.sort(reverse = True)\n",
    "randomList[0]"
   ]
  },
  {
   "cell_type": "markdown",
   "id": "2b6eddb5",
   "metadata": {
    "slideshow": {
     "slide_type": "slide"
    }
   },
   "source": [
    "## Built-in data types: Sets\n",
    "\n",
    "`x = {a,b,c,d...}`\n",
    "* Things to keep in mind:\n",
    "    * There are no duplicate items in sets\n",
    "    * You can not index items in sets"
   ]
  },
  {
   "cell_type": "markdown",
   "id": "0529efbf",
   "metadata": {
    "slideshow": {
     "slide_type": "slide"
    }
   },
   "source": [
    "## Built-in data types: Sets\n",
    "1. From a list of language names `lang = [\"Xhosa\", \"Luo\", \"Xhosa\", \"Zapotec\", \"Spanish\", \"Russian\", \"Zapotec\"]`, create a set. What is the difference in their length?"
   ]
  },
  {
   "cell_type": "code",
   "execution_count": 19,
   "id": "0f70cefb",
   "metadata": {
    "slideshow": {
     "slide_type": "fragment"
    }
   },
   "outputs": [
    {
     "name": "stdout",
     "output_type": "stream",
     "text": [
      "{'Spanish', 'Zapotec', 'Luo', 'Russian', 'Xhosa'}\n"
     ]
    }
   ],
   "source": [
    "lang = [\"Xhosa\", \"Luo\", \"Xhosa\", \"Zapotec\", \"Spanish\", \"Russian\", \"Zapotec\"]\n",
    "langSet = set(lang)\n",
    "print(langSet)"
   ]
  },
  {
   "cell_type": "code",
   "execution_count": 21,
   "id": "a41dd38d",
   "metadata": {
    "slideshow": {
     "slide_type": "fragment"
    }
   },
   "outputs": [
    {
     "data": {
      "text/plain": [
       "2"
      ]
     },
     "execution_count": 21,
     "metadata": {},
     "output_type": "execute_result"
    }
   ],
   "source": [
    "len(lang)-len(langSet)"
   ]
  },
  {
   "cell_type": "markdown",
   "id": "c606d3fc",
   "metadata": {
    "slideshow": {
     "slide_type": "slide"
    }
   },
   "source": [
    "## Built-in data types: Tuples\n",
    "\n",
    "`x = (a,b)`\n",
    "* Things to keep in mind:\n",
    "    * These are paired items\n",
    "    * We frequently see tuples _inside_ lists `x = [(a,b),(c,d),(e,f)]`"
   ]
  },
  {
   "cell_type": "markdown",
   "id": "642e73ba",
   "metadata": {
    "slideshow": {
     "slide_type": "slide"
    }
   },
   "source": [
    "## Built-in data types: Dictionaries\n",
    "\n",
    "`x = {key1:value1, key2:value2, key3:value3...}`\n",
    "* Things to keep in mind:\n",
    "    * Unordered\n",
    "    * Cannot have duplicate keys (but can have duplicate values)"
   ]
  },
  {
   "cell_type": "markdown",
   "id": "5ade5606",
   "metadata": {
    "slideshow": {
     "slide_type": "slide"
    }
   },
   "source": [
    "## Booleans\n",
    "\n",
    "`True`, `False`"
   ]
  },
  {
   "cell_type": "markdown",
   "id": "529c0c06",
   "metadata": {
    "slideshow": {
     "slide_type": "fragment"
    }
   },
   "source": [
    "What will each of the following return?\n",
    "\n",
    "`x = [1, 2, 3, 4, 5]`<br>\n",
    "`y = [\"red\", \"orange\", \"yellow\"]`\n",
    "\n",
    "1. `x[-1] > x[0]`\n",
    "2. `\"r\" in y[0]`\n",
    "3. `\"orange\" not in x`\n",
    "4. `x[0] < y[0]`\n",
    "5. `\"e\" in y[0] and \"e\" in y[2]`"
   ]
  },
  {
   "cell_type": "code",
   "execution_count": 23,
   "id": "c83c4714",
   "metadata": {
    "slideshow": {
     "slide_type": "slide"
    }
   },
   "outputs": [],
   "source": [
    "x = [1, 2, 3, 4, 5]\n",
    "y = [\"red\", \"orange\", \"yellow\"]"
   ]
  },
  {
   "cell_type": "code",
   "execution_count": 24,
   "id": "2341a15f",
   "metadata": {
    "slideshow": {
     "slide_type": "fragment"
    }
   },
   "outputs": [
    {
     "data": {
      "text/plain": [
       "True"
      ]
     },
     "execution_count": 24,
     "metadata": {},
     "output_type": "execute_result"
    }
   ],
   "source": [
    "x[-1] > x[0]"
   ]
  },
  {
   "cell_type": "code",
   "execution_count": 25,
   "id": "ab8e0566",
   "metadata": {
    "slideshow": {
     "slide_type": "fragment"
    }
   },
   "outputs": [
    {
     "data": {
      "text/plain": [
       "True"
      ]
     },
     "execution_count": 25,
     "metadata": {},
     "output_type": "execute_result"
    }
   ],
   "source": [
    "\"r\" in y[0]"
   ]
  },
  {
   "cell_type": "code",
   "execution_count": 27,
   "id": "f329f0ec",
   "metadata": {
    "slideshow": {
     "slide_type": "fragment"
    }
   },
   "outputs": [
    {
     "data": {
      "text/plain": [
       "True"
      ]
     },
     "execution_count": 27,
     "metadata": {},
     "output_type": "execute_result"
    }
   ],
   "source": [
    "\"orange\" not in x"
   ]
  },
  {
   "cell_type": "code",
   "execution_count": 28,
   "id": "36310b85",
   "metadata": {
    "slideshow": {
     "slide_type": "fragment"
    }
   },
   "outputs": [
    {
     "ename": "TypeError",
     "evalue": "'<' not supported between instances of 'int' and 'str'",
     "output_type": "error",
     "traceback": [
      "\u001b[0;31m---------------------------------------------------------------------------\u001b[0m",
      "\u001b[0;31mTypeError\u001b[0m                                 Traceback (most recent call last)",
      "\u001b[0;32m<ipython-input-28-03a5502765b5>\u001b[0m in \u001b[0;36m<module>\u001b[0;34m\u001b[0m\n\u001b[0;32m----> 1\u001b[0;31m \u001b[0mx\u001b[0m\u001b[0;34m[\u001b[0m\u001b[0;36m0\u001b[0m\u001b[0;34m]\u001b[0m \u001b[0;34m<\u001b[0m \u001b[0my\u001b[0m\u001b[0;34m[\u001b[0m\u001b[0;36m0\u001b[0m\u001b[0;34m]\u001b[0m\u001b[0;34m\u001b[0m\u001b[0;34m\u001b[0m\u001b[0m\n\u001b[0m",
      "\u001b[0;31mTypeError\u001b[0m: '<' not supported between instances of 'int' and 'str'"
     ]
    }
   ],
   "source": [
    "x[0] < y[0]"
   ]
  },
  {
   "cell_type": "code",
   "execution_count": 26,
   "id": "b6143915",
   "metadata": {},
   "outputs": [
    {
     "data": {
      "text/plain": [
       "True"
      ]
     },
     "execution_count": 26,
     "metadata": {},
     "output_type": "execute_result"
    }
   ],
   "source": [
    "\"e\" in y[0] and \"e\" in y[2]"
   ]
  },
  {
   "cell_type": "markdown",
   "id": "f4376913",
   "metadata": {
    "slideshow": {
     "slide_type": "slide"
    }
   },
   "source": [
    "## `if-else` statements\n",
    "\n",
    "* Simple decisions:\n",
    "     * if and only if the condition is met, execute the block of statements\n",
    "\n",
    "`if <condition>: # Is this condition True?\n",
    "     <statement> # If yes, do this.`"
   ]
  },
  {
   "cell_type": "markdown",
   "id": "952111d8",
   "metadata": {
    "slideshow": {
     "slide_type": "slide"
    }
   },
   "source": [
    "1. Return to the example from above. Ask a user how many times they have traveled abroad and save it to a variable travel. If the user has traveled more than 10 times say \"Wow! You're so cultured.\" Otherwise, print \"Cool! I would also like to travel\"."
   ]
  },
  {
   "cell_type": "markdown",
   "id": "8439b898",
   "metadata": {
    "slideshow": {
     "slide_type": "fragment"
    }
   },
   "source": [
    "## for Loops\n",
    "1. Write a Python script to print a dictionary where the keys are numbers between 1 and 15 (both included) and the values are the square of the keys.\n",
    "2. For each word in a sentence, print the last letter of that word on a new line.<br>\n",
    "Ex: Why hello there:<br>\n",
    "y<br>\n",
    "o<br>\n",
    "e<br>\n",
    "3. Print all the even numbers from 2-50 multiplied by 10."
   ]
  },
  {
   "cell_type": "markdown",
   "id": "c02f9596",
   "metadata": {
    "slideshow": {
     "slide_type": "slide"
    }
   },
   "source": [
    "1. Write a Python script to print a dictionary where the keys are numbers between 1 and 15 (both included) and the values are the square of the keys."
   ]
  },
  {
   "cell_type": "code",
   "execution_count": 29,
   "id": "ab66df44",
   "metadata": {
    "slideshow": {
     "slide_type": "fragment"
    }
   },
   "outputs": [
    {
     "name": "stdout",
     "output_type": "stream",
     "text": [
      "{1: 1, 2: 4, 3: 9, 4: 16, 5: 25, 6: 36, 7: 49, 8: 64, 9: 81, 10: 100, 11: 121, 12: 144, 13: 169, 14: 196, 15: 225}\n"
     ]
    }
   ],
   "source": [
    "d=dict()\n",
    "for x in range(1,16):\n",
    "    d[x]=x**2\n",
    "print(d) "
   ]
  },
  {
   "cell_type": "markdown",
   "id": "99124aaa",
   "metadata": {
    "slideshow": {
     "slide_type": "slide"
    }
   },
   "source": [
    "2. Get a sentence from a human user. For each word in that sentence, print the last letter of that word on a new line.<br>\n",
    "Ex: Why hello there:<br>\n",
    "y<br>\n",
    "o<br>\n",
    "e<br>"
   ]
  },
  {
   "cell_type": "code",
   "execution_count": 31,
   "id": "fff9f6c8",
   "metadata": {
    "slideshow": {
     "slide_type": "fragment"
    }
   },
   "outputs": [
    {
     "name": "stdout",
     "output_type": "stream",
     "text": [
      "Please give me a sentence: why hello there\n",
      "y\n",
      "o\n",
      "e\n"
     ]
    }
   ],
   "source": [
    "sent = input(\"Please give me a sentence: \")\n",
    "\n",
    "sent = sent.split()\n",
    "for word in sent:\n",
    "    print(word[-1])"
   ]
  },
  {
   "cell_type": "markdown",
   "id": "4bf74ea0",
   "metadata": {
    "slideshow": {
     "slide_type": "slide"
    }
   },
   "source": [
    "3. Print all the even numbers from 2-50 multiplied by 10."
   ]
  },
  {
   "cell_type": "code",
   "execution_count": 32,
   "id": "817a3a68",
   "metadata": {
    "slideshow": {
     "slide_type": "fragment"
    }
   },
   "outputs": [
    {
     "name": "stdout",
     "output_type": "stream",
     "text": [
      "20\n",
      "40\n",
      "60\n",
      "80\n",
      "100\n",
      "120\n",
      "140\n",
      "160\n",
      "180\n",
      "200\n",
      "220\n",
      "240\n",
      "260\n",
      "280\n",
      "300\n",
      "320\n",
      "340\n",
      "360\n",
      "380\n",
      "400\n",
      "420\n",
      "440\n",
      "460\n",
      "480\n",
      "500\n"
     ]
    }
   ],
   "source": [
    "for num in range(2,51,2):\n",
    "    print(num*10)"
   ]
  },
  {
   "cell_type": "markdown",
   "id": "9afd2344",
   "metadata": {
    "slideshow": {
     "slide_type": "slide"
    }
   },
   "source": [
    "# Don't forget:\n",
    "* Final project survey"
   ]
  }
 ],
 "metadata": {
  "celltoolbar": "Slideshow",
  "kernelspec": {
   "display_name": "Python 3",
   "language": "python",
   "name": "python3"
  },
  "language_info": {
   "codemirror_mode": {
    "name": "ipython",
    "version": 3
   },
   "file_extension": ".py",
   "mimetype": "text/x-python",
   "name": "python",
   "nbconvert_exporter": "python",
   "pygments_lexer": "ipython3",
   "version": "3.8.8"
  }
 },
 "nbformat": 4,
 "nbformat_minor": 5
}
