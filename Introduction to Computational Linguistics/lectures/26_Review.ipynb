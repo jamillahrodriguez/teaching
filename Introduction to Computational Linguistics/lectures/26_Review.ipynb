{
 "cells": [
  {
   "cell_type": "markdown",
   "id": "6f12afd9",
   "metadata": {
    "slideshow": {
     "slide_type": "slide"
    }
   },
   "source": [
    "<h1><center>Final Review<br></center></h1><h2><center>Tuesday April 18, 2023<br></center></h2>"
   ]
  },
  {
   "cell_type": "markdown",
   "id": "08eaeccc",
   "metadata": {
    "slideshow": {
     "slide_type": "slide"
    }
   },
   "source": [
    "# Updates\n",
    "\n",
    "## This week:\n",
    "* No class on Thursday\n",
    "* Instead, discussion post!\n",
    "\n",
    "## Next week: Presentations!\n",
    "* Schedule on Canvas\n",
    "* 10-12 minutes each\n",
    "\n",
    "### Questions, comments, concerns?"
   ]
  },
  {
   "cell_type": "markdown",
   "id": "dacdfcbe",
   "metadata": {
    "slideshow": {
     "slide_type": "slide"
    }
   },
   "source": [
    "## Discussion post for Thursday: ChatGPT\n",
    "\n",
    "Last week we discussed ethical issues in NLP and human biases that can be reflected in NLP systems. Read the following two articles about ChatGPT, a popular AI system that uses large-scale language modeling.\n",
    "\n",
    "Create a post in the discussion forum titled \"HW 6 Discussion\" and answer the following questions in a paragraph (or more):\n",
    "\n",
    "Do language models trained on more data have less bias? Why or why not? What kinds of biases arise in ChatGPT, if any?\n",
    "\n",
    "Think of a task where ChatGPT might show (any kind of) bias. You can test it out at https://chat.openai.com/ if you want. You have to create an account, but it only takes 2 minutes.\n",
    "\n",
    "What do you find? Do you think these biases should be corrected or is this data useful?\n",
    "\n",
    "Respond to at least one other student's post (respectfully and civilly)!"
   ]
  },
  {
   "cell_type": "markdown",
   "id": "b1e6cc50",
   "metadata": {
    "slideshow": {
     "slide_type": "fragment"
    }
   },
   "source": [
    "<center><img src=\"https://4307349.fs1.hubspotusercontent-na1.net/hubfs/4307349/c8nfa9zK.png\" width=800 height=800 /></center>"
   ]
  },
  {
   "cell_type": "markdown",
   "id": "1718b32e",
   "metadata": {
    "slideshow": {
     "slide_type": "fragment"
    }
   },
   "source": [
    "<center><img src=\"https://4307349.fs1.hubspotusercontent-na1.net/hubfs/4307349/BWR0Bpa4.png\" width=800 height=800 /></center>"
   ]
  },
  {
   "cell_type": "markdown",
   "id": "66c5f1bb",
   "metadata": {
    "slideshow": {
     "slide_type": "fragment"
    }
   },
   "source": [
    "<center><img src=\"https://pbs.twimg.com/media/Fr2peXTacAASZb5?format=jpg&name=medium\" width=800 height=800 /></center>"
   ]
  },
  {
   "cell_type": "markdown",
   "id": "c4ca620b",
   "metadata": {
    "slideshow": {
     "slide_type": "slide"
    }
   },
   "source": [
    "# Homework Review"
   ]
  },
  {
   "cell_type": "markdown",
   "id": "10ba7872",
   "metadata": {
    "slideshow": {
     "slide_type": "slide"
    }
   },
   "source": [
    "# Quiz 12\n",
    "\n",
    "1. Which of the following hypothetical situations are examples of representational harms? Choose all that apply.\n",
    "* [x] A Google search of \"Southern English dialects\" returns articles about the need for higher education\n",
    "* [ ] The authors on a paper about machine learning are ordered by their salary\n",
    "* [ ] A candidate for a position in artificial intelligence is denied an interview based on gender\n",
    "* [x] A hate speech detection program categorizes all AAE (African American English) as hate speech"
   ]
  },
  {
   "cell_type": "markdown",
   "id": "bd96c9b6",
   "metadata": {
    "slideshow": {
     "slide_type": "fragment"
    }
   },
   "source": [
    "2. Which of the following hypothetical situations are examples of allocational harms? Choose all that apply.\n",
    "* [ ] A Google search of \"Southern English dialects\" returns articles about the need for higher education\n",
    "* [x] The authors on a paper about machine learning are ordered by their salary\n",
    "* [x] A candidate for a position in artificial intelligence is denied an interview based on gender\n",
    "* [ ] A hate speech detection program categorizes all AAE (African American English) as hate speech"
   ]
  },
  {
   "cell_type": "markdown",
   "id": "25790093",
   "metadata": {
    "slideshow": {
     "slide_type": "fragment"
    }
   },
   "source": [
    "3. NLP teams should only consist of computer scientists\n",
    "\n",
    "False"
   ]
  },
  {
   "cell_type": "markdown",
   "id": "5db671b6",
   "metadata": {
    "slideshow": {
     "slide_type": "fragment"
    }
   },
   "source": [
    "4. Which of the following is not a basic ethical principle of the Belmont Report?\n",
    "* [ ] Respect for persons\n",
    "* [ ] Beneficence\n",
    "* [ ] Justice\n",
    "* [x] Compensation"
   ]
  },
  {
   "cell_type": "markdown",
   "id": "07972df6",
   "metadata": {
    "slideshow": {
     "slide_type": "fragment"
    }
   },
   "source": [
    "5. Minortized languages are always under-resourced.\n",
    "\n",
    "False"
   ]
  },
  {
   "cell_type": "markdown",
   "id": "73abb2e2",
   "metadata": {
    "slideshow": {
     "slide_type": "slide"
    }
   },
   "source": [
    "# Final exam study guide"
   ]
  }
 ],
 "metadata": {
  "celltoolbar": "Slideshow",
  "kernelspec": {
   "display_name": "Python 3",
   "language": "python",
   "name": "python3"
  },
  "language_info": {
   "codemirror_mode": {
    "name": "ipython",
    "version": 3
   },
   "file_extension": ".py",
   "mimetype": "text/x-python",
   "name": "python",
   "nbconvert_exporter": "python",
   "pygments_lexer": "ipython3",
   "version": "3.8.8"
  }
 },
 "nbformat": 4,
 "nbformat_minor": 5
}
