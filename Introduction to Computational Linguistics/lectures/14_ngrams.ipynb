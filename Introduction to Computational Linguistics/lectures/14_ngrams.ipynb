{
 "cells": [
  {
   "cell_type": "code",
   "execution_count": null,
   "id": "5327fdde",
   "metadata": {
    "slideshow": {
     "slide_type": "notes"
    }
   },
   "outputs": [],
   "source": [
    "from notebook.services.config import ConfigManager\n",
    "cm = ConfigManager()\n",
    "cm.update('livereveal', {\n",
    "        'width': 1024,\n",
    "        'height': 768,\n",
    "        'scroll': True,\n",
    "})"
   ]
  },
  {
   "cell_type": "markdown",
   "id": "6f12afd9",
   "metadata": {
    "slideshow": {
     "slide_type": "slide"
    }
   },
   "source": [
    "<h1><center>Lecture 14:<br>N-grams<br></center></h1><h2><center>Tuesday Feb 28 2023<br></center></h2>\n",
    "\n",
    "\n",
    "<center><img src=\"https://www.tutorialexample.com/wp-content/uploads/2019/09/python-sentence-n-grams-model.png\" width=800 height=800 /></center>"
   ]
  },
  {
   "cell_type": "markdown",
   "id": "08eaeccc",
   "metadata": {
    "slideshow": {
     "slide_type": "slide"
    }
   },
   "source": [
    "# Updates\n",
    "### This week: N-grams & language models\n",
    "* Jurafsky & Martin Chp 3 - Focus on Sections 3.1 and 3.2\n",
    "* HW 3 due tonight\n",
    "* Quiz 8 due Friday"
   ]
  },
  {
   "cell_type": "markdown",
   "id": "7d322add",
   "metadata": {
    "slideshow": {
     "slide_type": "slide"
    }
   },
   "source": [
    "# Final project\n",
    "\n",
    "* Final project guidelines now on Canvas"
   ]
  },
  {
   "cell_type": "markdown",
   "id": "cd078204",
   "metadata": {
    "slideshow": {
     "slide_type": "slide"
    }
   },
   "source": [
    "# Moving on... Language models!\n",
    "\n",
    "* We need to be able to make programs that resemble human-like language\n",
    "* Goal: assign probability to sentence/phrase/word\n",
    "* What NLP tasks would this be good for?"
   ]
  },
  {
   "cell_type": "markdown",
   "id": "7d7ed0fa",
   "metadata": {
    "slideshow": {
     "slide_type": "slide"
    }
   },
   "source": [
    "## Application of language models\n",
    "### Machine translation\n",
    "* P(**high** winds tonight) > P(**large** winds tonight)"
   ]
  },
  {
   "cell_type": "markdown",
   "id": "3898e76d",
   "metadata": {
    "slideshow": {
     "slide_type": "fragment"
    }
   },
   "source": [
    "### Spell correction\n",
    "* The office is about fifteen **minuets** from my house\n",
    "    * P(about fifteen **minutes** from) > P(about fifteen **minuets** from)"
   ]
  },
  {
   "cell_type": "markdown",
   "id": "4e1c2fdc",
   "metadata": {
    "slideshow": {
     "slide_type": "fragment"
    }
   },
   "source": [
    "### Grammar correction\n",
    "* **Their** are so many bears in the backyard\n",
    "    * P(**There** are so many bears in the backyard) > P(**Their** are so many bears in the backyard)"
   ]
  },
  {
   "cell_type": "markdown",
   "id": "a59dc62d",
   "metadata": {
    "slideshow": {
     "slide_type": "slide"
    }
   },
   "source": [
    "## Application of language models\n",
    "### Speech recognition\n",
    "* P(I saw a van) > P(eyes awe of an)"
   ]
  },
  {
   "cell_type": "markdown",
   "id": "c2727012",
   "metadata": {
    "slideshow": {
     "slide_type": "slide"
    }
   },
   "source": [
    "### And many more areas!\n",
    "* Predictive text\n",
    "* Augementative and alternative communication (AAC)\n",
    "\n",
    "<center><img src=\"https://support.apple.com/library/content/dam/edam/applecare/images/en_US/iOS/ios15-iphone12-pro-messages-predictive-text.png\" width=200 height=200 /></center>"
   ]
  },
  {
   "cell_type": "markdown",
   "id": "190c01e9",
   "metadata": {
    "slideshow": {
     "slide_type": "slide"
    }
   },
   "source": [
    "## So what is a language model?\n",
    "\n",
    "* Compute the probability of a sentence/phrase\n",
    "$$P(W) = P(w_1, w_2, w_3, w_4...w_n)$$\n"
   ]
  },
  {
   "cell_type": "markdown",
   "id": "a8fe9232",
   "metadata": {
    "slideshow": {
     "slide_type": "fragment"
    }
   },
   "source": [
    "* Compute the probability of an upcoming word\n",
    "$$P(w_5|w_1, w_2, w_3, w_4)$$"
   ]
  },
  {
   "cell_type": "markdown",
   "id": "76871c78",
   "metadata": {
    "slideshow": {
     "slide_type": "fragment"
    }
   },
   "source": [
    "* A **Language model (LM)** is a model that computes either of these"
   ]
  },
  {
   "cell_type": "markdown",
   "id": "6d37b4f3",
   "metadata": {
    "slideshow": {
     "slide_type": "slide"
    }
   },
   "source": [
    "## How can we estimate the probability of a word given its context?\n",
    "* Let's look at \"Emma\" by Jane Austen again in the gutenberg corpus\n",
    "* What's the probability of getting _\"recovering\"_ after _\"there was no\"_?<br>\n",
    "    * We can calculate this fairly easily using what we already know!"
   ]
  },
  {
   "cell_type": "markdown",
   "id": "1619cbb4",
   "metadata": {
    "slideshow": {
     "slide_type": "fragment"
    }
   },
   "source": [
    "$$\\frac{\\text{# of \"there was no recovering\"}}{\\text{# of \"there was no\"}}$$"
   ]
  },
  {
   "cell_type": "code",
   "execution_count": 1,
   "id": "3c78a78c",
   "metadata": {
    "slideshow": {
     "slide_type": "fragment"
    }
   },
   "outputs": [],
   "source": [
    "import nltk\n",
    "from nltk.corpus import gutenberg\n",
    "emma = gutenberg.raw('austen-emma.txt').lower()"
   ]
  },
  {
   "cell_type": "code",
   "execution_count": 2,
   "id": "4bb6a64a",
   "metadata": {
    "slideshow": {
     "slide_type": "slide"
    }
   },
   "outputs": [
    {
     "data": {
      "text/plain": [
       "0.021739130434782608"
      ]
     },
     "execution_count": 2,
     "metadata": {},
     "output_type": "execute_result"
    }
   ],
   "source": [
    "emma.count(\"there was no recovering\")/emma.count(\"there was no\")"
   ]
  },
  {
   "cell_type": "code",
   "execution_count": 3,
   "id": "2f40d621",
   "metadata": {
    "slideshow": {
     "slide_type": "fragment"
    }
   },
   "outputs": [
    {
     "data": {
      "text/plain": [
       "46"
      ]
     },
     "execution_count": 3,
     "metadata": {},
     "output_type": "execute_result"
    }
   ],
   "source": [
    "emma.count(\"there was no\")"
   ]
  },
  {
   "cell_type": "code",
   "execution_count": 4,
   "id": "576cf452",
   "metadata": {
    "slideshow": {
     "slide_type": "fragment"
    }
   },
   "outputs": [
    {
     "data": {
      "text/plain": [
       "1"
      ]
     },
     "execution_count": 4,
     "metadata": {},
     "output_type": "execute_result"
    }
   ],
   "source": [
    "emma.count(\"there was no recovering\")"
   ]
  },
  {
   "cell_type": "markdown",
   "id": "52cc049c",
   "metadata": {
    "slideshow": {
     "slide_type": "slide"
    }
   },
   "source": [
    "# Individual exercise: Now find the probability of getting the following.\n",
    "\n",
    "1. \"advice\" after \"very good\" in \"carrol-alice.txt\"\n",
    "2. \"heads\" after \"off with their\" in \"carrol-alice.txt\"\n",
    "3. \"advice\" after \"very good\" in \"austen-emma.txt\"\n",
    "4. \"heads\" after \"off with their\" in \"austen-emma.txt\""
   ]
  },
  {
   "cell_type": "markdown",
   "id": "210bec67",
   "metadata": {
    "slideshow": {
     "slide_type": "slide"
    }
   },
   "source": [
    "## Why is this not a great method for predicting text?\n",
    "\n",
    "* Everything looks fine with \\#1!"
   ]
  },
  {
   "cell_type": "code",
   "execution_count": 5,
   "id": "0d190051",
   "metadata": {
    "slideshow": {
     "slide_type": "fragment"
    }
   },
   "outputs": [
    {
     "data": {
      "text/plain": [
       "0.25"
      ]
     },
     "execution_count": 5,
     "metadata": {},
     "output_type": "execute_result"
    }
   ],
   "source": [
    "# 1. \"very good advice\" in \"carrol-alice.txt\"\n",
    "alice = gutenberg.raw(\"carroll-alice.txt\").lower()\n",
    "alice.count(\"very good advice\")/alice.count(\"very good\") # okay, cool"
   ]
  },
  {
   "cell_type": "markdown",
   "id": "0e922996",
   "metadata": {
    "slideshow": {
     "slide_type": "fragment"
    }
   },
   "source": [
    "* We can even compare it to instances of other words after \"very good\""
   ]
  },
  {
   "cell_type": "code",
   "execution_count": 6,
   "id": "b42e0a11",
   "metadata": {
    "slideshow": {
     "slide_type": "fragment"
    }
   },
   "outputs": [
    {
     "name": "stdout",
     "output_type": "stream",
     "text": [
      "['very good opportunity', 'very good advice', 'very good height']\n"
     ]
    }
   ],
   "source": [
    "import re\n",
    "very_good = re.findall(\"very good \\w+\", alice)\n",
    "print(very_good)"
   ]
  },
  {
   "cell_type": "markdown",
   "id": "722af66e",
   "metadata": {
    "slideshow": {
     "slide_type": "slide"
    }
   },
   "source": [
    "* \\#2"
   ]
  },
  {
   "cell_type": "code",
   "execution_count": 7,
   "id": "72d8637d",
   "metadata": {
    "slideshow": {
     "slide_type": "fragment"
    }
   },
   "outputs": [
    {
     "data": {
      "text/plain": [
       "1.0"
      ]
     },
     "execution_count": 7,
     "metadata": {},
     "output_type": "execute_result"
    }
   ],
   "source": [
    "# 2. \"off with their heads\" in \"carrol-alice.txt\"\n",
    "alice.count(\"off with their heads\")/alice.count(\"off with their\")"
   ]
  },
  {
   "cell_type": "markdown",
   "id": "8327903e",
   "metadata": {
    "slideshow": {
     "slide_type": "fragment"
    }
   },
   "source": [
    "* This means that any time we see \"off with their\", the next word must be \"heads\".\n",
    "* But what about:\n",
    "    * \"off with their shoes\"\n",
    "    * \"Something is off with their timing\".\n",
    "    * \"I think the restaurant is a little off with their service\"."
   ]
  },
  {
   "cell_type": "markdown",
   "id": "1285cbf1",
   "metadata": {
    "slideshow": {
     "slide_type": "slide"
    }
   },
   "source": [
    "\\#3 looks okay!"
   ]
  },
  {
   "cell_type": "code",
   "execution_count": 8,
   "id": "17821530",
   "metadata": {
    "slideshow": {
     "slide_type": "fragment"
    }
   },
   "outputs": [
    {
     "data": {
      "text/plain": [
       "0.02127659574468085"
      ]
     },
     "execution_count": 8,
     "metadata": {},
     "output_type": "execute_result"
    }
   ],
   "source": [
    "# 3. \"very good advice\" in \"austen-emma.txt\"\n",
    "emma = gutenberg.raw(\"austen-emma.txt\").lower()\n",
    "emma.count(\"very good advice\")/emma.count(\"very good\")"
   ]
  },
  {
   "cell_type": "markdown",
   "id": "6d375871",
   "metadata": {
    "slideshow": {
     "slide_type": "slide"
    }
   },
   "source": [
    "\\#4 presents another problem..."
   ]
  },
  {
   "cell_type": "code",
   "execution_count": 9,
   "id": "f2cb143b",
   "metadata": {
    "slideshow": {
     "slide_type": "slide"
    }
   },
   "outputs": [
    {
     "ename": "ZeroDivisionError",
     "evalue": "division by zero",
     "output_type": "error",
     "traceback": [
      "\u001b[0;31m---------------------------------------------------------------------------\u001b[0m",
      "\u001b[0;31mZeroDivisionError\u001b[0m                         Traceback (most recent call last)",
      "\u001b[0;32m<ipython-input-9-172edb276bd4>\u001b[0m in \u001b[0;36m<module>\u001b[0;34m\u001b[0m\n\u001b[1;32m      1\u001b[0m \u001b[0;31m# 4. \"off with their heads\" in \"austen-emma.txt\"\u001b[0m\u001b[0;34m\u001b[0m\u001b[0;34m\u001b[0m\u001b[0;34m\u001b[0m\u001b[0m\n\u001b[0;32m----> 2\u001b[0;31m \u001b[0memma\u001b[0m\u001b[0;34m.\u001b[0m\u001b[0mcount\u001b[0m\u001b[0;34m(\u001b[0m\u001b[0;34m\"off with their heads\"\u001b[0m\u001b[0;34m)\u001b[0m\u001b[0;34m/\u001b[0m\u001b[0memma\u001b[0m\u001b[0;34m.\u001b[0m\u001b[0mcount\u001b[0m\u001b[0;34m(\u001b[0m\u001b[0;34m\"off with their\"\u001b[0m\u001b[0;34m)\u001b[0m \u001b[0;31m# Uh oh...\u001b[0m\u001b[0;34m\u001b[0m\u001b[0;34m\u001b[0m\u001b[0m\n\u001b[0m",
      "\u001b[0;31mZeroDivisionError\u001b[0m: division by zero"
     ]
    }
   ],
   "source": [
    "# 4. \"off with their heads\" in \"austen-emma.txt\"\n",
    "emma.count(\"off with their heads\")/emma.count(\"off with their\") # Uh oh..."
   ]
  },
  {
   "cell_type": "markdown",
   "id": "b66e9b1b",
   "metadata": {
    "slideshow": {
     "slide_type": "fragment"
    }
   },
   "source": [
    "* We can't divide by 0!\n",
    "    * Meaning there are no instances of \"off with their\"\n",
    "    * But we know (and have seen evidence) that this is a perfectly grammatical sequence of words."
   ]
  },
  {
   "cell_type": "markdown",
   "id": "69271217",
   "metadata": {
    "slideshow": {
     "slide_type": "fragment"
    }
   },
   "source": [
    "### There are too many possible sentences!\n",
    "   * In fact, an infinite number of sentences.\n",
    "    \n",
    "### And never enough data!"
   ]
  },
  {
   "cell_type": "markdown",
   "id": "013f1d23",
   "metadata": {
    "slideshow": {
     "slide_type": "slide"
    }
   },
   "source": [
    "# Markov Assumption\n",
    "* \"Markov models are the class of probabilistic models that assume we can predict the probability of some future unit without looking too far into the past\"\n",
    "* We can instead estimate based on a smaller context\n",
    "* Instead of:<br>\n",
    "    $$P(w_i|w_1, w_2...w_{i-1})$$\n",
    "* We use:<br>\n",
    "    $$P(w_i|w_{i-k}...w_{i-1})$$\n",
    "    "
   ]
  },
  {
   "cell_type": "markdown",
   "id": "ca50194f",
   "metadata": {
    "slideshow": {
     "slide_type": "fragment"
    }
   },
   "source": [
    "# Chain Rule\n",
    "* So if we want to find the P(\"its water is so transparent\")...\n",
    "* We should use the Chain Rule\n",
    "* Get the probability of all the smaller contexts and multiply them.\n",
    " $$P(\\text{\"its water is so transparent\"}) = P(\\text{its}) \\text{ x } P(\\text{water|its}) \\text{ x } P(\\text{so|its water is})\\text{ x } P(\\text{transparent|its water is so})$$\n",
    "* But what are these \"smaller parts\"?"
   ]
  },
  {
   "cell_type": "markdown",
   "id": "99a4b93f",
   "metadata": {
    "slideshow": {
     "slide_type": "slide"
    }
   },
   "source": [
    "# n-gram Language Models\n",
    "\n",
    "* **n-gram**: a sequence of _n_ words\n",
    "* unigrams: single word\n",
    "* bigrams: two words\n",
    "* trigrams: three words\n",
    "* 4-grams: four words\n",
    "* And so on..."
   ]
  },
  {
   "cell_type": "markdown",
   "id": "6eae01a4",
   "metadata": {
    "slideshow": {
     "slide_type": "slide"
    }
   },
   "source": [
    "* **The baby pet the cat gently.**\n",
    "* What are all the unigrams in this sentence?"
   ]
  },
  {
   "cell_type": "markdown",
   "id": "5606fa39",
   "metadata": {
    "slideshow": {
     "slide_type": "fragment"
    }
   },
   "source": [
    "the, baby, pet, the, cat, gently"
   ]
  },
  {
   "cell_type": "markdown",
   "id": "b5ca0806",
   "metadata": {
    "slideshow": {
     "slide_type": "slide"
    }
   },
   "source": [
    "* **The baby pet the cat gently.**\n",
    "* What are all the bigrams in this sentence?"
   ]
  },
  {
   "cell_type": "markdown",
   "id": "bbeb7a33",
   "metadata": {
    "slideshow": {
     "slide_type": "fragment"
    }
   },
   "source": [
    "\\<s> the<br>\n",
    "the baby<br>\n",
    "baby pet<br>\n",
    "pet the<br>\n",
    "the cat<br>\n",
    "cat gently<br>\n",
    "gently \\</s>"
   ]
  },
  {
   "cell_type": "markdown",
   "id": "976d7031",
   "metadata": {
    "slideshow": {
     "slide_type": "slide"
    }
   },
   "source": [
    "* **The baby pet the cat gently.**\n",
    "* What about all the trigrams?"
   ]
  },
  {
   "cell_type": "markdown",
   "id": "6b285ada",
   "metadata": {
    "slideshow": {
     "slide_type": "fragment"
    }
   },
   "source": [
    "\\<s> the baby <br>\n",
    "the baby pet<br>\n",
    "baby pet the<br>\n",
    "pet the cat<br>\n",
    "the cat gently <br>\n",
    "cat gently \\</s>"
   ]
  },
  {
   "cell_type": "markdown",
   "id": "4e82fb18",
   "metadata": {
    "slideshow": {
     "slide_type": "slide"
    }
   },
   "source": [
    "# Getting n-grams easily\n",
    "* Thank you again, NLTK! =)\n",
    "* Built-in n-grams function\n",
    "    * `nltk.bigrams()`\n",
    "    * `nltk.trigrams()`"
   ]
  },
  {
   "cell_type": "code",
   "execution_count": 10,
   "id": "30e6b90f",
   "metadata": {
    "slideshow": {
     "slide_type": "fragment"
    }
   },
   "outputs": [
    {
     "data": {
      "text/plain": [
       "[('Colorless', 'green'),\n",
       " ('green', 'ideas'),\n",
       " ('ideas', 'sleep'),\n",
       " ('sleep', 'furiously')]"
      ]
     },
     "execution_count": 10,
     "metadata": {},
     "output_type": "execute_result"
    }
   ],
   "source": [
    "sent = [\"Colorless\", \"green\", \"ideas\", \"sleep\", \"furiously\"]\n",
    "list(nltk.bigrams(sent))"
   ]
  },
  {
   "cell_type": "code",
   "execution_count": 11,
   "id": "1b8a8840",
   "metadata": {
    "slideshow": {
     "slide_type": "fragment"
    }
   },
   "outputs": [
    {
     "data": {
      "text/plain": [
       "[('Colorless', 'green', 'ideas'),\n",
       " ('green', 'ideas', 'sleep'),\n",
       " ('ideas', 'sleep', 'furiously')]"
      ]
     },
     "execution_count": 11,
     "metadata": {},
     "output_type": "execute_result"
    }
   ],
   "source": [
    "list(nltk.trigrams(sent))"
   ]
  },
  {
   "cell_type": "markdown",
   "id": "23952505",
   "metadata": {
    "slideshow": {
     "slide_type": "slide"
    }
   },
   "source": [
    "* To get larger n-grams than tri-grams...\n",
    "* import `from nltk.util import ngrams`\n",
    "* `ngrams(text, n-gram length)`"
   ]
  },
  {
   "cell_type": "code",
   "execution_count": 12,
   "id": "601e648a",
   "metadata": {
    "slideshow": {
     "slide_type": "fragment"
    }
   },
   "outputs": [
    {
     "data": {
      "text/plain": [
       "[('Atlas', 'laughed', 'so', 'loudly', 'that'),\n",
       " ('laughed', 'so', 'loudly', 'that', 'the'),\n",
       " ('so', 'loudly', 'that', 'the', 'colorless'),\n",
       " ('loudly', 'that', 'the', 'colorless', 'green'),\n",
       " ('that', 'the', 'colorless', 'green', 'ideas'),\n",
       " ('the', 'colorless', 'green', 'ideas', 'became'),\n",
       " ('colorless', 'green', 'ideas', 'became', 'furious')]"
      ]
     },
     "execution_count": 12,
     "metadata": {},
     "output_type": "execute_result"
    }
   ],
   "source": [
    "from nltk.util import ngrams\n",
    "sent = \"Atlas laughed so loudly that the colorless green ideas became furious\".split()\n",
    "list(ngrams(sent, 5))"
   ]
  },
  {
   "cell_type": "markdown",
   "id": "a4921b7e",
   "metadata": {
    "slideshow": {
     "slide_type": "slide"
    }
   },
   "source": [
    "## But for many tasks we may also want/need to know sentence boundaries...\n",
    "\n",
    "* We can \"pad\" sentences with the `pad_sequence` package"
   ]
  },
  {
   "cell_type": "code",
   "execution_count": 14,
   "id": "83a29f38",
   "metadata": {
    "slideshow": {
     "slide_type": "fragment"
    }
   },
   "outputs": [
    {
     "data": {
      "text/plain": [
       "[('<s>', 'Atlas', 'laughed', 'so'),\n",
       " ('Atlas', 'laughed', 'so', 'loudly'),\n",
       " ('laughed', 'so', 'loudly', 'that'),\n",
       " ('so', 'loudly', 'that', 'the'),\n",
       " ('loudly', 'that', 'the', 'colorless'),\n",
       " ('that', 'the', 'colorless', 'green'),\n",
       " ('the', 'colorless', 'green', 'ideas'),\n",
       " ('colorless', 'green', 'ideas', 'became'),\n",
       " ('green', 'ideas', 'became', 'furious'),\n",
       " ('ideas', 'became', 'furious', '</s>')]"
      ]
     },
     "execution_count": 14,
     "metadata": {},
     "output_type": "execute_result"
    }
   ],
   "source": [
    "from nltk.util import pad_sequence\n",
    "padded_sent = list(pad_sequence(sent, pad_left=True, left_pad_symbol=\"<s>\", \n",
    "                  pad_right=True, right_pad_symbol=\"</s>\", n = 2))\n",
    "\n",
    "list(ngrams(padded_sent,4))\n"
   ]
  },
  {
   "cell_type": "markdown",
   "id": "7df4c81b",
   "metadata": {
    "slideshow": {
     "slide_type": "slide"
    }
   },
   "source": [
    "## Simplest Markov assumption: unigrams\n",
    "* Remember the Makrov assumption allows us to make predictions based on smaller environments\n",
    "* Modeling a language based only on the probability of individual words"
   ]
  },
  {
   "cell_type": "code",
   "execution_count": 16,
   "id": "253a6d10",
   "metadata": {
    "slideshow": {
     "slide_type": "fragment"
    }
   },
   "outputs": [],
   "source": [
    "emma = gutenberg.words('austen-emma.txt')"
   ]
  },
  {
   "cell_type": "code",
   "execution_count": 17,
   "id": "20e4e1c1",
   "metadata": {
    "slideshow": {
     "slide_type": "fragment"
    }
   },
   "outputs": [
    {
     "name": "stdout",
     "output_type": "stream",
     "text": [
      "cold Frank than her Elton which sure plenty swiftly I . - be , all ; removing with and of school , she Must have gravel she , better and All am , little vouchsafed to up situation .\" never . her He the her back do for \" producing indeed to Goddard !-- Abbey sometimes her been whole her , self rather , anxious assist is Mr a fancy ?\" any merely !\"-- had you entreated decidedly , some him an , best comfortable and you your or of , it my and - Emma replied to , fast\n"
     ]
    }
   ],
   "source": [
    "import random # This package contains the random.choice() function\n",
    "\n",
    "emmaUnigramsLM = [random.choice(emma) for i in range(100)]\n",
    "print(\" \".join(emmaUnigramsLM))"
   ]
  },
  {
   "cell_type": "markdown",
   "id": "c393ee6f",
   "metadata": {
    "slideshow": {
     "slide_type": "slide"
    }
   },
   "source": [
    "## Markov assumption with bigrams\n",
    "* Let's try instead with bigrams\n",
    "* Remember that we can create **frequency distributions** to look at how often each bigram occurs"
   ]
  },
  {
   "cell_type": "code",
   "execution_count": 19,
   "id": "87730057",
   "metadata": {
    "slideshow": {
     "slide_type": "fragment"
    }
   },
   "outputs": [
    {
     "data": {
      "text/plain": [
       "[((',', 'and'), 1879),\n",
       " (('Mr', '.'), 1153),\n",
       " ((\"'\", 's'), 932),\n",
       " ((';', 'and'), 866),\n",
       " (('.\"', '\"'), 757),\n",
       " (('Mrs', '.'), 699),\n",
       " (('to', 'be'), 595),\n",
       " (('.', 'I'), 570),\n",
       " ((',', 'I'), 568),\n",
       " (('of', 'the'), 556),\n",
       " (('in', 'the'), 434),\n",
       " ((';', 'but'), 427),\n",
       " (('.', 'Weston'), 426),\n",
       " (('.', '\"'), 415),\n",
       " (('.', 'She'), 413),\n",
       " ((',', '\"'), 398),\n",
       " (('I', 'am'), 395),\n",
       " (('.', 'Elton'), 381),\n",
       " ((',', 'that'), 359),\n",
       " (('had', 'been'), 308)]"
      ]
     },
     "execution_count": 19,
     "metadata": {},
     "output_type": "execute_result"
    }
   ],
   "source": [
    "emmaBigrams = list(nltk.bigrams(emma))\n",
    "fdBigrams = nltk.FreqDist(emmaBigrams)\n",
    "fdBigrams.most_common()[:20]"
   ]
  },
  {
   "cell_type": "markdown",
   "id": "7aacbb78",
   "metadata": {
    "slideshow": {
     "slide_type": "slide"
    }
   },
   "source": [
    "* And remember conditional frequency distributions?"
   ]
  },
  {
   "cell_type": "code",
   "execution_count": 20,
   "id": "5b6ac8ff",
   "metadata": {
    "slideshow": {
     "slide_type": "fragment"
    }
   },
   "outputs": [
    {
     "data": {
      "text/plain": [
       "FreqDist({'with': 3, 'in': 3, 'together': 2, ',': 2, 'alone': 1, 'child': 1, ';': 1, 'almost': 1, 'under': 1, 'constantly': 1, ...})"
      ]
     },
     "execution_count": 20,
     "metadata": {},
     "output_type": "execute_result"
    }
   ],
   "source": [
    "cfdBigrams = nltk.ConditionalFreqDist(emmaBigrams)\n",
    "cfdBigrams['living'] # We'll come back to this next class."
   ]
  },
  {
   "cell_type": "code",
   "execution_count": 21,
   "id": "87749d81",
   "metadata": {
    "slideshow": {
     "slide_type": "slide"
    }
   },
   "outputs": [
    {
     "name": "stdout",
     "output_type": "stream",
     "text": [
      "?\" But the time .\" \" followed them into her of all in Mrs ? had . CHAPTER he must glad you so fast have been in favour window - feelings which of the to Hartfield he could Miss Bates , to as if did it excellent looks gone through give any of owning said Emma , she Harriet . What is ? You made excuses that is had ever and tosses or even had made of the such words He had been too hundred chances her father who had us . Mrs . having any make his subjects took see him , I came into Churchill ' led to ' s he married her very discrimination , same good , but or any those who Knightley ' I have Mr . been telling collecting herself they were justice you at the , my whether I do very the door very extraordinary have done is a \" seemed friend for , and that he , it his own as I either to thing that and Mr see her ?-- Quite , but incumbent on most serious ; that change . then , engagement . opinion of assure you season .\"\n"
     ]
    }
   ],
   "source": [
    "emmaBigrams = list(nltk.bigrams(emma))\n",
    "emmaBigramsLM = [\" \".join(random.choice(emmaBigrams)) for i in range(100)]\n",
    "print(\" \".join(emmaBigramsLM))"
   ]
  },
  {
   "cell_type": "markdown",
   "id": "ab2f12ad",
   "metadata": {
    "slideshow": {
     "slide_type": "slide"
    }
   },
   "source": [
    "## Markov assumption with trigrams\n",
    "* Let's try instead with trigrams"
   ]
  },
  {
   "cell_type": "code",
   "execution_count": 22,
   "id": "cbd7ce5b",
   "metadata": {
    "slideshow": {
     "slide_type": "fragment"
    }
   },
   "outputs": [
    {
     "name": "stdout",
     "output_type": "stream",
     "text": [
      "would rather done got home ; the low ; subject cut up place .-- Emma that place in a treasure of was so long submissively , and assure you , so very handsome , though no at the top \" Frank was \" they are nearly half an passed ,-- aware carriage was sent a temporary increase Bates , who CHAPTER V \" gives me the myself intelligible yesterday seeing her . ? Do try looking over William , and she a stranger , understand what you have his fireside luxuries of her be , and what every field had shewn them Fairfax ' s rules for it try what I out ; and she was twelve your friends may Smith was quite to bear next than the remembrance turn out a ?\" \" Very hope not infectious walk , which , must you her -- and with the woman he travel now . Knightley , just then took have nothing to Seven miles were first , without decidedly warm admiration I must do .\" \" Yes no , no very near at In that respect may pass us in water - by hearing that herself , \" ; and for life . I , and have gave her to be the following . Knightley , continued he , feelings , he and while she man in such a very slow , but very worthy of your his wife ; else .\" \" her turn and her way before dislike .-- When her own relapse possible that the ; but Emma for Mr . expressing an interest out , she would not have well - meaning - trees to I confess that already much better branch of a me ! but realised an easy of at first you yesterday ,\"\n"
     ]
    }
   ],
   "source": [
    "emmaTri = list(nltk.trigrams(emma))\n",
    "emmaTriLM = [\" \".join(random.choice(emmaTri)) for i in range(100)]\n",
    "print(\" \".join(emmaTriLM))"
   ]
  },
  {
   "attachments": {
    "Screen%20Shot%202022-03-08%20at%208.40.07%20AM.png": {
     "image/png": "[encoded data removed]"
    }
   },
   "cell_type": "markdown",
   "id": "f8901da5",
   "metadata": {
    "slideshow": {
     "slide_type": "slide"
    }
   },
   "source": [
    "## n-grams and linguistic phenomena\n",
    "* Let's look at this graph taken from J&M Chp. 3\n",
    "* Bigram counts for some words in Berkeley Restaurant Project corpus\n",
    "* What makes some counts really high and what makes some really low/0?\n",
    "\n",
    "![Screen%20Shot%202022-03-08%20at%208.40.07%20AM.png](attachment:Screen%20Shot%202022-03-08%20at%208.40.07%20AM.png)"
   ]
  },
  {
   "cell_type": "markdown",
   "id": "3a07bfe3",
   "metadata": {
    "slideshow": {
     "slide_type": "slide"
    }
   },
   "source": [
    "##  Maximum Likelihood Estimate\n",
    "* We need to be able to use n-grams to get calculate the probability of a word/phrase.\n",
    "\n",
    "\\<s> I am Sam \\</s> <br>\n",
    "\\<s> Sam I am \\</s> <br>\n",
    "\\<s> I do not like green eggs and ham \\</s> <br>"
   ]
  },
  {
   "cell_type": "markdown",
   "id": "2d225629",
   "metadata": {
    "slideshow": {
     "slide_type": "fragment"
    }
   },
   "source": [
    "Based on this 'corpus', what is the probability of getting \"I\" _given_ the beginning of a sentence?"
   ]
  },
  {
   "cell_type": "markdown",
   "id": "bd8596dd",
   "metadata": {
    "slideshow": {
     "slide_type": "fragment"
    }
   },
   "source": [
    "P( I | \\<s> ) = $\\frac{2}{3}$ or 67%"
   ]
  },
  {
   "cell_type": "markdown",
   "id": "d1cee8c9",
   "metadata": {
    "slideshow": {
     "slide_type": "slide"
    }
   },
   "source": [
    "\\<s> I am Sam \\</s> <br>\n",
    "\\<s> Sam I am \\</s> <br>\n",
    "\\<s> I do not like green eggs and ham \\</s> <br>"
   ]
  },
  {
   "cell_type": "markdown",
   "id": "42c20c1d",
   "metadata": {
    "slideshow": {
     "slide_type": "fragment"
    }
   },
   "source": [
    "What is the probability of getting \"Sam\" _given_ \"am\"?"
   ]
  },
  {
   "cell_type": "markdown",
   "id": "7397c735",
   "metadata": {
    "slideshow": {
     "slide_type": "fragment"
    }
   },
   "source": [
    "P( Sam | am ) = $\\frac{1}{2}$ or 50%"
   ]
  },
  {
   "cell_type": "markdown",
   "id": "815a3de0",
   "metadata": {
    "slideshow": {
     "slide_type": "slide"
    }
   },
   "source": [
    "* But how can we get the probability of an entire sentence?\n",
    "* Perhaps a sentence that doesn't already exist in the corpus."
   ]
  },
  {
   "cell_type": "markdown",
   "id": "c0601e5c",
   "metadata": {
    "slideshow": {
     "slide_type": "fragment"
    }
   },
   "source": [
    "# Chain Rule\n",
    "* We should use the Chain Rule\n",
    " $$P(\\text{\"its water is so transparent\"}) = P(\\text{its}) \\text{ x } P(\\text{water|its}) \\text{ x } P(\\text{so|its water is})\\text{ x } P(\\text{transparent|its water is so})$$"
   ]
  },
  {
   "cell_type": "markdown",
   "id": "ed959333",
   "metadata": {
    "slideshow": {
     "slide_type": "slide"
    }
   },
   "source": [
    "* What's the probability of getting _\"cats like dogs\"_ given the following data?\n",
    "\n",
    "\\<s> I like dogs \\</s> <br>\n",
    "\\<s> I like cats \\</s> <br>\n",
    "\\<s> Cats do not usually like dogs \\</s> <br>\n",
    "\\<s> I usually side with dogs \\</s> <br>\n",
    "\\<s> Cats like it that way \\</s> <br>\n",
    "\\<s> Dogs are ambivalent \\</s>\n",
    "\n",
    "* We can use the Chain Rule on bigrams."
   ]
  },
  {
   "cell_type": "markdown",
   "id": "6cb98c71",
   "metadata": {
    "slideshow": {
     "slide_type": "fragment"
    }
   },
   "source": [
    "$$P(\\text{<s> cats like dogs </s>})=$$\n",
    "$$P(\\text{cats | <s>) x}\\\\ P(\\text{like | cats) x}\\\\ P(\\text{dogs | like) x}\\\\ P(\\text{</s> | dogs)}$$"
   ]
  },
  {
   "cell_type": "markdown",
   "id": "1bb60990",
   "metadata": {
    "slideshow": {
     "slide_type": "fragment"
    }
   },
   "source": [
    "$$P(\\text{cats | <s>)} \\color{blue}{0.33} \\text{x}\\\\P(\\text{like | cats) } \\color{blue}{0.33} \\text{x}\\\\ P(\\text{dogs | like) } \\color{blue}{0.5} \\text{x}\\\\P(\\text{</s> | dogs)} \\color{blue}{0.75}$$\n",
    "\n",
    "\n",
    "$$P(\\text{<s> cats like dogs </s>})= \\color{red}{0.04}$$"
   ]
  },
  {
   "cell_type": "markdown",
   "id": "197c8a42",
   "metadata": {
    "slideshow": {
     "slide_type": "slide"
    }
   },
   "source": [
    "## Log probabilities\n",
    "* We have issues here.\n",
    "    * **Underflow** (multiplying many small numbers will give us an even smaller probability)\n",
    "    * So longer sentences will always have pretty small probabilities\n",
    "* It's better to look at these as log probabilities.\n",
    "    * Transform to log and add\n",
    "    $$ p_1 \\text{x} p_2 \\text{x} p_3 \\text{x} p_4 = \\text{log}p_1 + \\text{log}p_2 + \\text{log}p_3 + \\text{log}p_4$$"
   ]
  },
  {
   "cell_type": "markdown",
   "id": "09f5865e",
   "metadata": {
    "slideshow": {
     "slide_type": "slide"
    }
   },
   "source": [
    "## Transforming probability of \"Cats like dogs\" to log"
   ]
  },
  {
   "cell_type": "code",
   "execution_count": 23,
   "id": "f8e14990",
   "metadata": {
    "slideshow": {
     "slide_type": "fragment"
    }
   },
   "outputs": [
    {
     "data": {
      "text/plain": [
       "0.040837500000000006"
      ]
     },
     "execution_count": 23,
     "metadata": {},
     "output_type": "execute_result"
    }
   ],
   "source": [
    "import math # This package has a log function\n",
    "\n",
    "0.33 * 0.33 * 0.5 * 0.75"
   ]
  },
  {
   "cell_type": "code",
   "execution_count": 25,
   "id": "29c4d99d",
   "metadata": {
    "slideshow": {
     "slide_type": "fragment"
    }
   },
   "outputs": [
    {
     "data": {
      "text/plain": [
       "-3.1981545020549484"
      ]
     },
     "execution_count": 25,
     "metadata": {},
     "output_type": "execute_result"
    }
   ],
   "source": [
    "math.log(0.33) + math.log(0.33) + math.log(0.5) + math.log(0.75)"
   ]
  },
  {
   "cell_type": "markdown",
   "id": "a1987f15",
   "metadata": {
    "slideshow": {
     "slide_type": "slide"
    }
   },
   "source": [
    "## Let's try the Chain Rule again."
   ]
  },
  {
   "cell_type": "markdown",
   "id": "db4fb151",
   "metadata": {
    "slideshow": {
     "slide_type": "fragment"
    }
   },
   "source": [
    "What is the probability of getting \"I do not like Sam\", given the following corpus?\n",
    "\n",
    "\\<s> I am Sam \\</s> <br>\n",
    "\\<s> Sam I am \\</s> <br>\n",
    "\\<s> I do not like green eggs and ham \\</s> <br>"
   ]
  },
  {
   "cell_type": "markdown",
   "id": "7259f980",
   "metadata": {
    "slideshow": {
     "slide_type": "fragment"
    }
   },
   "source": [
    "$$P(\\text{<s> I do not like Sam </s>})=$$\n",
    "$$P(\\text{I | <s>) x}\\\\ P(\\text{do | I) x}\\\\ P(\\text{not | do) x}\\\\ P(\\text{like | not) x}\\\\P(\\text{Sam | like) x}\\\\P(\\text{</s> | Sam) x}$$"
   ]
  },
  {
   "cell_type": "markdown",
   "id": "1d8b555a",
   "metadata": {
    "slideshow": {
     "slide_type": "fragment"
    }
   },
   "source": [
    "Uh oh...\n",
    "\n",
    "$$P(\\text{I | <s>)} \\color{blue}{0.67} \\text{x}\\\\P(\\text{do | I) } \\color{blue}{0.33} \\text{x}\\\\ P(\\text{not | do) } \\color{blue}{1.00} \\text{x}\\\\ P(\\text{like | not)} \\color{blue}{1.00} \\text{x}\\\\P(\\text{Sam | like)} \\color{blue}{0} \\text{x}\\\\P(\\text{</s> | Sam)} \\color{blue}{0.33}$$\n",
    "\n",
    "\n",
    "$$P(\\text{<s> I do not like Sam </s>})= \\color{red}{0%}$$"
   ]
  },
  {
   "cell_type": "markdown",
   "id": "5973d781",
   "metadata": {
    "slideshow": {
     "slide_type": "slide"
    }
   },
   "source": [
    "## What is the problem here?"
   ]
  },
  {
   "cell_type": "markdown",
   "id": "8b0af647",
   "metadata": {
    "slideshow": {
     "slide_type": "fragment"
    }
   },
   "source": [
    "* We can often get 0 when our test set (new data) doesn't look like our training set (existing data)"
   ]
  },
  {
   "cell_type": "markdown",
   "id": "2bc5a1fd",
   "metadata": {
    "slideshow": {
     "slide_type": "slide"
    }
   },
   "source": [
    "## What do we do if we get probabilities of 0?\n",
    "* There are several ways to deal with this!\n",
    "* Simplest:\n",
    "    * **Add-one smoothing (AKA Laplace Smoothing)**\n",
    "    * Just pretend we saw each word one more time than we did!"
   ]
  },
  {
   "cell_type": "markdown",
   "id": "ccf6171a",
   "metadata": {
    "slideshow": {
     "slide_type": "slide"
    }
   },
   "source": [
    "What is the probability of getting \"I do not like Sam\", given the following corpus?\n",
    "\n",
    "\\<s> I am Sam \\</s> <br>\n",
    "\\<s> Sam I am \\</s> <br>\n",
    "\\<s> I do not like green eggs and ham \\</s> <br>"
   ]
  },
  {
   "cell_type": "markdown",
   "id": "a28af59c",
   "metadata": {
    "slideshow": {
     "slide_type": "fragment"
    }
   },
   "source": [
    "$$P(\\text{I | <s>)} \\color{blue}{0.67} \\text{x}\\\\P(\\text{do | I) } \\color{blue}{0.33} \\text{x}\\\\ P(\\text{not | do) } \\color{blue}{1.00} \\text{x}\\\\ P(\\text{like | not)} \\color{blue}{1.00} \\text{x}\\\\P(\\text{Sam | like)} \\color{blue}{0} \\text{x}\\\\P(\\text{</s> | Sam)} \\color{blue}{0.33}$$\n",
    "\n",
    "\n",
    "$$P(\\text{<s> I do not like Sam </s>})= \\color{red}{0%}$$"
   ]
  },
  {
   "cell_type": "markdown",
   "id": "0ab4f9c8",
   "metadata": {
    "slideshow": {
     "slide_type": "slide"
    }
   },
   "source": [
    "# Challenges with n-gram modeling"
   ]
  },
  {
   "cell_type": "markdown",
   "id": "7fcb4aa8",
   "metadata": {
    "slideshow": {
     "slide_type": "fragment"
    }
   },
   "source": [
    "## Why not extend n-gram models?\n",
    "* To 7-grams, 8-grams, etc?"
   ]
  },
  {
   "cell_type": "markdown",
   "id": "e326112f",
   "metadata": {
    "slideshow": {
     "slide_type": "fragment"
    }
   },
   "source": [
    "* We've seen problems with getting accurate predictions if we don't have a large enough corpus"
   ]
  },
  {
   "cell_type": "markdown",
   "id": "1e3e1e0e",
   "metadata": {
    "slideshow": {
     "slide_type": "slide"
    }
   },
   "source": [
    "## Okay...so why not keep n-grams smaller - trigrams?"
   ]
  },
  {
   "cell_type": "markdown",
   "id": "6ab8f3a9",
   "metadata": {
    "slideshow": {
     "slide_type": "fragment"
    }
   },
   "source": [
    "* Long-distance dependencies make this difficult."
   ]
  },
  {
   "cell_type": "markdown",
   "id": "76b28aca",
   "metadata": {
    "slideshow": {
     "slide_type": "fragment"
    }
   },
   "source": [
    "\"The **computer** which I had just put into the machine room on the fifth floor **crashed**\"."
   ]
  },
  {
   "cell_type": "markdown",
   "id": "c7eb5ad1",
   "metadata": {
    "slideshow": {
     "slide_type": "fragment"
    }
   },
   "source": [
    "* But for most purposes, they work okay!\n",
    "* We'll see more LMs next week."
   ]
  },
  {
   "cell_type": "markdown",
   "id": "dbb030e1",
   "metadata": {
    "slideshow": {
     "slide_type": "slide"
    }
   },
   "source": [
    "# Next class: Evaluating language models\n",
    "\n",
    "* How do we know that we have a _good_ or _bad_ LM?\n",
    "    * There are ways to measure this!"
   ]
  }
 ],
 "metadata": {
  "celltoolbar": "Slideshow",
  "kernelspec": {
   "display_name": "Python 3",
   "language": "python",
   "name": "python3"
  },
  "language_info": {
   "codemirror_mode": {
    "name": "ipython",
    "version": 3
   },
   "file_extension": ".py",
   "mimetype": "text/x-python",
   "name": "python",
   "nbconvert_exporter": "python",
   "pygments_lexer": "ipython3",
   "version": "3.8.8"
  }
 },
 "nbformat": 4,
 "nbformat_minor": 5
}
