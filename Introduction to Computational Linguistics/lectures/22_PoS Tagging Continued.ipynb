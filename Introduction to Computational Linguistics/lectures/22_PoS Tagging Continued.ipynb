{
 "cells": [
  {
   "cell_type": "markdown",
   "id": "6f12afd9",
   "metadata": {
    "slideshow": {
     "slide_type": "slide"
    }
   },
   "source": [
    "<h1><center>Lecture 22:<br>Part-of-Speech Tagging Continued<br></center></h1><h2><center>Thursday Mar 31 2022<br></center></h2>\n",
    "\n",
    "\n",
    "<center><img src=\"https://www.splunk.com/content/dam/splunk-blogs/images/en_uk/03/spaCy.png\" width=800 height=800 /></center>"
   ]
  },
  {
   "cell_type": "markdown",
   "id": "08eaeccc",
   "metadata": {
    "slideshow": {
     "slide_type": "slide"
    }
   },
   "source": [
    "# Updates\n",
    "\n",
    "## This week: Part-of-Speech Tagging\n",
    "* Quiz 10 Due tonight\n",
    "\n",
    "## Next week: Context Free Grammars\n",
    "* How can we represent syntax in NLP?\n",
    "* NLTK Chp 8 Sections 1-3\n",
    "\n",
    "### Questions, comments, concerns?"
   ]
  },
  {
   "cell_type": "markdown",
   "id": "c4ca620b",
   "metadata": {
    "slideshow": {
     "slide_type": "slide"
    }
   },
   "source": [
    "# Homework Review"
   ]
  },
  {
   "cell_type": "markdown",
   "id": "b658e0e3",
   "metadata": {
    "slideshow": {
     "slide_type": "slide"
    }
   },
   "source": [
    "# Returning to tagsets"
   ]
  },
  {
   "cell_type": "code",
   "execution_count": 1,
   "id": "0d0a1ed1",
   "metadata": {
    "slideshow": {
     "slide_type": "fragment"
    }
   },
   "outputs": [
    {
     "name": "stdout",
     "output_type": "stream",
     "text": [
      "$: dollar\n",
      "    $ -$ --$ A$ C$ HK$ M$ NZ$ S$ U.S.$ US$\n",
      "'': closing quotation mark\n",
      "    ' ''\n",
      "(: opening parenthesis\n",
      "    ( [ {\n",
      "): closing parenthesis\n",
      "    ) ] }\n",
      ",: comma\n",
      "    ,\n",
      "--: dash\n",
      "    --\n",
      ".: sentence terminator\n",
      "    . ! ?\n",
      ":: colon or ellipsis\n",
      "    : ; ...\n",
      "CC: conjunction, coordinating\n",
      "    & 'n and both but either et for less minus neither nor or plus so\n",
      "    therefore times v. versus vs. whether yet\n",
      "CD: numeral, cardinal\n",
      "    mid-1890 nine-thirty forty-two one-tenth ten million 0.5 one forty-\n",
      "    seven 1987 twenty '79 zero two 78-degrees eighty-four IX '60s .025\n",
      "    fifteen 271,124 dozen quintillion DM2,000 ...\n",
      "DT: determiner\n",
      "    all an another any both del each either every half la many much nary\n",
      "    neither no some such that the them these this those\n",
      "EX: existential there\n",
      "    there\n",
      "FW: foreign word\n",
      "    gemeinschaft hund ich jeux habeas Haementeria Herr K'ang-si vous\n",
      "    lutihaw alai je jour objets salutaris fille quibusdam pas trop Monte\n",
      "    terram fiche oui corporis ...\n",
      "IN: preposition or conjunction, subordinating\n",
      "    astride among uppon whether out inside pro despite on by throughout\n",
      "    below within for towards near behind atop around if like until below\n",
      "    next into if beside ...\n",
      "JJ: adjective or numeral, ordinal\n",
      "    third ill-mannered pre-war regrettable oiled calamitous first separable\n",
      "    ectoplasmic battery-powered participatory fourth still-to-be-named\n",
      "    multilingual multi-disciplinary ...\n",
      "JJR: adjective, comparative\n",
      "    bleaker braver breezier briefer brighter brisker broader bumper busier\n",
      "    calmer cheaper choosier cleaner clearer closer colder commoner costlier\n",
      "    cozier creamier crunchier cuter ...\n",
      "JJS: adjective, superlative\n",
      "    calmest cheapest choicest classiest cleanest clearest closest commonest\n",
      "    corniest costliest crassest creepiest crudest cutest darkest deadliest\n",
      "    dearest deepest densest dinkiest ...\n",
      "LS: list item marker\n",
      "    A A. B B. C C. D E F First G H I J K One SP-44001 SP-44002 SP-44005\n",
      "    SP-44007 Second Third Three Two * a b c d first five four one six three\n",
      "    two\n",
      "MD: modal auxiliary\n",
      "    can cannot could couldn't dare may might must need ought shall should\n",
      "    shouldn't will would\n",
      "NN: noun, common, singular or mass\n",
      "    common-carrier cabbage knuckle-duster Casino afghan shed thermostat\n",
      "    investment slide humour falloff slick wind hyena override subhumanity\n",
      "    machinist ...\n",
      "NNP: noun, proper, singular\n",
      "    Motown Venneboerger Czestochwa Ranzer Conchita Trumplane Christos\n",
      "    Oceanside Escobar Kreisler Sawyer Cougar Yvette Ervin ODI Darryl CTCA\n",
      "    Shannon A.K.C. Meltex Liverpool ...\n",
      "NNPS: noun, proper, plural\n",
      "    Americans Americas Amharas Amityvilles Amusements Anarcho-Syndicalists\n",
      "    Andalusians Andes Andruses Angels Animals Anthony Antilles Antiques\n",
      "    Apache Apaches Apocrypha ...\n",
      "NNS: noun, common, plural\n",
      "    undergraduates scotches bric-a-brac products bodyguards facets coasts\n",
      "    divestitures storehouses designs clubs fragrances averages\n",
      "    subjectivists apprehensions muses factory-jobs ...\n",
      "PDT: pre-determiner\n",
      "    all both half many quite such sure this\n",
      "POS: genitive marker\n",
      "    ' 's\n",
      "PRP: pronoun, personal\n",
      "    hers herself him himself hisself it itself me myself one oneself ours\n",
      "    ourselves ownself self she thee theirs them themselves they thou thy us\n",
      "PRP$: pronoun, possessive\n",
      "    her his mine my our ours their thy your\n",
      "RB: adverb\n",
      "    occasionally unabatingly maddeningly adventurously professedly\n",
      "    stirringly prominently technologically magisterially predominately\n",
      "    swiftly fiscally pitilessly ...\n",
      "RBR: adverb, comparative\n",
      "    further gloomier grander graver greater grimmer harder harsher\n",
      "    healthier heavier higher however larger later leaner lengthier less-\n",
      "    perfectly lesser lonelier longer louder lower more ...\n",
      "RBS: adverb, superlative\n",
      "    best biggest bluntest earliest farthest first furthest hardest\n",
      "    heartiest highest largest least less most nearest second tightest worst\n",
      "RP: particle\n",
      "    aboard about across along apart around aside at away back before behind\n",
      "    by crop down ever fast for forth from go high i.e. in into just later\n",
      "    low more off on open out over per pie raising start teeth that through\n",
      "    under unto up up-pp upon whole with you\n",
      "SYM: symbol\n",
      "    % & ' '' ''. ) ). * + ,. < = > @ A[fj] U.S U.S.S.R * ** ***\n",
      "TO: \"to\" as preposition or infinitive marker\n",
      "    to\n",
      "UH: interjection\n",
      "    Goodbye Goody Gosh Wow Jeepers Jee-sus Hubba Hey Kee-reist Oops amen\n",
      "    huh howdy uh dammit whammo shucks heck anyways whodunnit honey golly\n",
      "    man baby diddle hush sonuvabitch ...\n",
      "VB: verb, base form\n",
      "    ask assemble assess assign assume atone attention avoid bake balkanize\n",
      "    bank begin behold believe bend benefit bevel beware bless boil bomb\n",
      "    boost brace break bring broil brush build ...\n",
      "VBD: verb, past tense\n",
      "    dipped pleaded swiped regummed soaked tidied convened halted registered\n",
      "    cushioned exacted snubbed strode aimed adopted belied figgered\n",
      "    speculated wore appreciated contemplated ...\n",
      "VBG: verb, present participle or gerund\n",
      "    telegraphing stirring focusing angering judging stalling lactating\n",
      "    hankerin' alleging veering capping approaching traveling besieging\n",
      "    encrypting interrupting erasing wincing ...\n",
      "VBN: verb, past participle\n",
      "    multihulled dilapidated aerosolized chaired languished panelized used\n",
      "    experimented flourished imitated reunifed factored condensed sheared\n",
      "    unsettled primed dubbed desired ...\n",
      "VBP: verb, present tense, not 3rd person singular\n",
      "    predominate wrap resort sue twist spill cure lengthen brush terminate\n",
      "    appear tend stray glisten obtain comprise detest tease attract\n",
      "    emphasize mold postpone sever return wag ...\n",
      "VBZ: verb, present tense, 3rd person singular\n",
      "    bases reconstructs marks mixes displeases seals carps weaves snatches\n",
      "    slumps stretches authorizes smolders pictures emerges stockpiles\n",
      "    seduces fizzes uses bolsters slaps speaks pleads ...\n",
      "WDT: WH-determiner\n",
      "    that what whatever which whichever\n",
      "WP: WH-pronoun\n",
      "    that what whatever whatsoever which who whom whosoever\n",
      "WP$: WH-pronoun, possessive\n",
      "    whose\n",
      "WRB: Wh-adverb\n",
      "    how however whence whenever where whereby whereever wherein whereof why\n",
      "``: opening quotation mark\n",
      "    ` ``\n"
     ]
    }
   ],
   "source": [
    "import nltk\n",
    "nltk.help.upenn_tagset()"
   ]
  },
  {
   "cell_type": "markdown",
   "id": "a968b06a",
   "metadata": {
    "slideshow": {
     "slide_type": "slide"
    }
   },
   "source": [
    "# Let's explore more with pos-tagging in NLTK\n",
    "* Last class we looked at concordance\n",
    "* What if we want a very specific context?"
   ]
  },
  {
   "cell_type": "code",
   "execution_count": 16,
   "id": "c5cfd56d",
   "metadata": {
    "slideshow": {
     "slide_type": "fragment"
    }
   },
   "outputs": [],
   "source": [
    "#nltk.download(\"brown\")\n",
    "from nltk.corpus import brown\n",
    "brown_tagged = nltk.corpus.brown.tagged_words(tagset = \"universal\")"
   ]
  },
  {
   "cell_type": "code",
   "execution_count": 8,
   "id": "91eaa4e2",
   "metadata": {
    "slideshow": {
     "slide_type": "fragment"
    }
   },
   "outputs": [
    {
     "data": {
      "text/plain": [
       "[\"''\",\n",
       " ',',\n",
       " '--',\n",
       " '.',\n",
       " 'a',\n",
       " 'acceptable',\n",
       " 'accompanied',\n",
       " 'accomplished',\n",
       " 'achieve',\n",
       " 'achieved',\n",
       " 'acute',\n",
       " 'addressed',\n",
       " 'ambiguous',\n",
       " 'an',\n",
       " 'analytically',\n",
       " 'and',\n",
       " 'anonymous',\n",
       " 'appear',\n",
       " 'appeared',\n",
       " 'appears',\n",
       " 'approaches',\n",
       " 'apt',\n",
       " 'are',\n",
       " \"aren't\",\n",
       " 'arise',\n",
       " 'aroused',\n",
       " 'as',\n",
       " 'associated',\n",
       " 'assumed',\n",
       " 'assuming',\n",
       " 'at',\n",
       " 'based',\n",
       " 'became',\n",
       " 'become',\n",
       " 'been',\n",
       " 'before',\n",
       " 'began',\n",
       " 'begins',\n",
       " 'black',\n",
       " 'blended',\n",
       " 'blood-thirsty',\n",
       " 'breakfasted',\n",
       " 'bring',\n",
       " 'build',\n",
       " 'by',\n",
       " 'by-passed',\n",
       " 'call',\n",
       " 'called',\n",
       " 'cannot',\n",
       " 'carefully',\n",
       " 'charming',\n",
       " 'chose',\n",
       " 'classified',\n",
       " 'cluster',\n",
       " 'colorful',\n",
       " 'combined',\n",
       " 'come',\n",
       " 'complain',\n",
       " 'composed',\n",
       " 'concerned',\n",
       " 'confused',\n",
       " 'contain',\n",
       " 'containing',\n",
       " 'critical',\n",
       " 'cultivates',\n",
       " 'curious',\n",
       " 'decanted',\n",
       " 'did',\n",
       " 'differed',\n",
       " 'difficult',\n",
       " 'diminishes',\n",
       " 'disappeared',\n",
       " 'discussed',\n",
       " 'disfigured',\n",
       " 'disrupts',\n",
       " 'do',\n",
       " 'donned',\n",
       " 'drawn',\n",
       " 'drew',\n",
       " 'drowned',\n",
       " 'encountered',\n",
       " 'enough',\n",
       " 'equate',\n",
       " 'exhibit',\n",
       " 'extends',\n",
       " 'extrapolate',\n",
       " 'extremely',\n",
       " 'fail',\n",
       " 'far',\n",
       " 'fear',\n",
       " 'find',\n",
       " 'flowing',\n",
       " 'for',\n",
       " 'forget',\n",
       " 'forgetful',\n",
       " 'found',\n",
       " 'getting',\n",
       " 'gives',\n",
       " 'go',\n",
       " 'ground',\n",
       " 'had',\n",
       " 'happened',\n",
       " 'happens',\n",
       " 'has',\n",
       " 'have',\n",
       " 'he',\n",
       " 'hear',\n",
       " 'heard',\n",
       " 'hectic',\n",
       " 'helped',\n",
       " 'hit',\n",
       " 'ignorant',\n",
       " 'ignore',\n",
       " 'ignored',\n",
       " 'in',\n",
       " 'informed',\n",
       " 'insist',\n",
       " 'intense',\n",
       " 'involved',\n",
       " 'is',\n",
       " 'it',\n",
       " 'its',\n",
       " 'keep',\n",
       " 'kept',\n",
       " 'killed',\n",
       " 'lack',\n",
       " 'left',\n",
       " 'let',\n",
       " 'like',\n",
       " 'little',\n",
       " 'low',\n",
       " 'lulled',\n",
       " 'made',\n",
       " 'make',\n",
       " 'makes',\n",
       " 'mar',\n",
       " 'marked',\n",
       " 'meets',\n",
       " 'mentioned',\n",
       " 'miss',\n",
       " 'mistakenly',\n",
       " 'mistook',\n",
       " 'more',\n",
       " 'need',\n",
       " 'needed',\n",
       " 'needs',\n",
       " 'neglect',\n",
       " 'next',\n",
       " 'nightly',\n",
       " 'observed',\n",
       " 'obstructed',\n",
       " 'of',\n",
       " 'on',\n",
       " 'only',\n",
       " 'opportunities',\n",
       " 'our',\n",
       " 'out',\n",
       " 'overlooked',\n",
       " 'overshadow',\n",
       " 'pale',\n",
       " 'pave',\n",
       " 'peaceful',\n",
       " 'performed',\n",
       " 'performing',\n",
       " 'possible',\n",
       " 'prone',\n",
       " 'quite',\n",
       " 're-enacted',\n",
       " 'realized',\n",
       " 'remaining',\n",
       " 'reminded',\n",
       " 'represent',\n",
       " 'require',\n",
       " 'responsible',\n",
       " 'revamped',\n",
       " 'reveals',\n",
       " 'ridiculous',\n",
       " 'rules',\n",
       " 'ruthless',\n",
       " 'sat',\n",
       " 'say',\n",
       " 'searched',\n",
       " 'seclude',\n",
       " 'seek',\n",
       " 'seems',\n",
       " 'sentimental',\n",
       " 'set',\n",
       " 'shortened',\n",
       " 'shot',\n",
       " 'sing',\n",
       " 'slipped',\n",
       " 'so',\n",
       " 'sounded',\n",
       " 'sounds',\n",
       " 'speak',\n",
       " 'spoke',\n",
       " 'spread',\n",
       " 'stated',\n",
       " 'still',\n",
       " 'stood',\n",
       " 'stress',\n",
       " 'stresses',\n",
       " 'suggested',\n",
       " 'sung',\n",
       " 'supported',\n",
       " 'take',\n",
       " 'takes',\n",
       " 'tempted',\n",
       " 'than',\n",
       " 'that',\n",
       " 'the',\n",
       " 'this',\n",
       " 'thought',\n",
       " 'threw',\n",
       " 'to',\n",
       " 'told',\n",
       " 'tortured',\n",
       " 'translated',\n",
       " 'trapped',\n",
       " 'turn',\n",
       " 'unconnected',\n",
       " 'understood',\n",
       " 'unnecessary',\n",
       " 'used',\n",
       " 'uses',\n",
       " 'venerated',\n",
       " 'viewed',\n",
       " 'visit',\n",
       " 'visited',\n",
       " 'went',\n",
       " 'were',\n",
       " 'when',\n",
       " 'with',\n",
       " 'wonder',\n",
       " 'work',\n",
       " 'would',\n",
       " 'wound']"
      ]
     },
     "execution_count": 8,
     "metadata": {},
     "output_type": "execute_result"
    }
   ],
   "source": [
    "# What will the following code give us?\n",
    "sorted(set(b for (a, b) in nltk.bigrams(brown.words()) if a == 'often'))"
   ]
  },
  {
   "cell_type": "code",
   "execution_count": 17,
   "id": "7bf6f3df",
   "metadata": {
    "slideshow": {
     "slide_type": "slide"
    }
   },
   "outputs": [
    {
     "name": "stdout",
     "output_type": "stream",
     "text": [
      "['ADJ', '.', 'VERB', 'DET', 'VERB', 'ADP', 'ADP', 'ADV', 'VERB', 'ADJ', 'VERB', '.', 'VERB', 'VERB', 'ADJ', 'DET', 'VERB', 'VERB', 'VERB', 'VERB', '.', 'ADP', '.', 'DET', 'ADP', '.', 'ADP', 'ADP', 'VERB', 'VERB', 'ADJ', '.', 'VERB', 'VERB', 'VERB', 'ADJ', 'VERB', 'VERB', 'VERB', 'ADV', 'VERB', 'ADJ', 'VERB', 'VERB', 'VERB', 'VERB', 'VERB', 'ADJ', 'VERB', 'VERB', 'VERB', 'ADJ', 'VERB', 'VERB', 'VERB', 'VERB', '.', 'PRT', 'VERB', 'VERB', 'CONJ', 'VERB', 'VERB', 'VERB', 'VERB', 'VERB', 'VERB', 'ADP', 'DET', 'VERB', 'VERB', '.', 'VERB', 'DET', 'VERB', 'ADV', 'NOUN', 'ADV', 'DET', 'VERB', 'VERB', 'ADP', 'ADV', 'VERB', 'DET', 'VERB', 'VERB', 'ADJ', 'PRON', 'VERB', 'VERB', '.', '.', 'VERB', 'DET', 'VERB', 'VERB', 'VERB', 'VERB', 'VERB', 'DET', 'DET', 'VERB', 'VERB', '.', 'ADP', 'DET', 'DET', '.', 'VERB', 'ADV', 'VERB', 'ADP', 'VERB', 'VERB', 'ADJ', 'VERB', 'VERB', 'VERB', 'VERB', 'VERB', 'VERB', 'VERB', 'DET', 'DET', 'VERB', 'VERB', 'ADP', 'VERB', 'VERB', 'VERB', 'VERB', 'DET', 'VERB', 'VERB', 'VERB', 'VERB', 'VERB', 'VERB', 'VERB', 'CONJ', 'VERB', 'VERB', 'ADP', 'VERB', 'VERB', 'VERB', 'VERB', 'ADV', 'VERB', 'VERB', 'DET', 'VERB', 'ADV', 'VERB', 'VERB', 'DET', 'VERB', 'VERB', 'VERB', 'VERB', 'VERB', 'VERB', 'ADP', 'VERB', 'VERB', 'DET', 'ADP', 'VERB', 'VERB', 'NOUN', 'NOUN', 'VERB', '.', 'VERB', 'ADJ', 'ADJ', 'VERB', 'ADJ', 'VERB', 'VERB', 'VERB', 'VERB', 'VERB', 'VERB', 'VERB', 'VERB', 'ADV', 'VERB', 'DET', 'VERB', 'ADP', 'VERB', '.', 'VERB', 'VERB', 'VERB', 'ADJ', 'VERB', 'VERB', 'VERB', 'VERB', 'ADP', 'ADJ', 'VERB', 'ADP', 'VERB', 'VERB', 'ADV', 'ADJ', 'VERB', 'ADJ', 'ADP', 'ADJ', 'VERB', 'VERB', 'DET', 'ADJ', 'VERB', 'ADP', 'VERB', 'ADJ', 'VERB', 'VERB', '.', 'VERB', 'VERB', 'VERB', 'ADP', 'ADP', 'VERB', 'VERB', 'VERB', 'VERB', 'VERB', 'VERB', 'VERB', 'ADJ', 'ADJ', 'VERB', 'VERB', 'ADJ', 'ADV', 'VERB', 'VERB', 'VERB', 'NOUN', '.', 'ADJ', 'ADV', 'VERB', 'VERB', 'ADJ', '.', 'VERB', 'VERB', 'VERB', 'VERB', '.', 'VERB', 'ADP', 'VERB', 'VERB', 'VERB', 'VERB', 'ADP', 'ADV', 'PRT', 'VERB', 'VERB', 'ADV', 'VERB', 'VERB', 'VERB', 'VERB', 'ADP', '.', 'ADP', 'VERB', 'VERB', 'ADV', 'VERB', 'ADV', 'ADJ', 'ADP', 'ADV', 'VERB', 'ADJ', 'VERB', 'VERB', 'VERB', 'VERB', 'VERB', 'ADV', 'VERB', 'VERB', 'ADJ', 'VERB', 'ADP', 'ADP', 'ADV', 'VERB', '.', 'PRT', 'VERB', 'VERB', 'VERB', 'VERB', 'ADJ', 'VERB', 'VERB', 'VERB', 'VERB', 'CONJ', 'VERB', 'VERB', 'VERB', 'VERB', 'VERB', 'ADJ', 'VERB', 'VERB', 'ADP', 'VERB', 'VERB', 'VERB', 'VERB', 'VERB', 'VERB', '.', 'ADP', 'VERB', 'ADV', '.', 'ADJ', 'ADP', 'VERB', 'DET', 'PRON', 'VERB', '.', 'VERB', 'VERB', 'ADV', 'ADJ', 'VERB', 'VERB', 'VERB', 'VERB']\n"
     ]
    }
   ],
   "source": [
    "tags = [b[1] for (a, b) in nltk.bigrams(brown_tagged) if a[0] == 'often']\n",
    "print(tags)"
   ]
  },
  {
   "cell_type": "code",
   "execution_count": 18,
   "id": "3c712f5e",
   "metadata": {
    "slideshow": {
     "slide_type": "fragment"
    }
   },
   "outputs": [],
   "source": [
    "tagFreq = nltk.FreqDist(tags)"
   ]
  },
  {
   "cell_type": "code",
   "execution_count": 14,
   "id": "09becdf2",
   "metadata": {
    "slideshow": {
     "slide_type": "slide"
    }
   },
   "outputs": [],
   "source": [
    "#tagFreq.most_common()\n",
    "#nltk.help.upenn_tagset(\"VBN\")"
   ]
  },
  {
   "cell_type": "code",
   "execution_count": 19,
   "id": "8034ae31",
   "metadata": {
    "slideshow": {
     "slide_type": "fragment"
    }
   },
   "outputs": [
    {
     "name": "stdout",
     "output_type": "stream",
     "text": [
      "VERB  ADJ  ADP    .  DET  ADV NOUN  PRT CONJ PRON \n",
      " 209   32   31   23   21   21    4    3    3    2 \n"
     ]
    }
   ],
   "source": [
    "tagFreq.tabulate()"
   ]
  },
  {
   "cell_type": "markdown",
   "id": "def5a624",
   "metadata": {
    "slideshow": {
     "slide_type": "slide"
    }
   },
   "source": [
    "### Let's try getting more context!"
   ]
  },
  {
   "cell_type": "code",
   "execution_count": 16,
   "id": "55692a2b",
   "metadata": {},
   "outputs": [
    {
     "name": "stdout",
     "output_type": "stream",
     "text": [
      "Once deleted, variables cannot be recovered. Proceed (y/[n])? y\n"
     ]
    }
   ],
   "source": [
    "%reset"
   ]
  },
  {
   "cell_type": "code",
   "execution_count": 22,
   "id": "7865984b",
   "metadata": {
    "slideshow": {
     "slide_type": "fragment"
    }
   },
   "outputs": [],
   "source": [
    "# What will this do?\n",
    "\n",
    "#nltk.help.upenn_tagset()\n",
    "\n",
    "brown_tagged = nltk.corpus.brown.tagged_words()\n",
    "for tagged_sent in brown.tagged_sents():\n",
    "    for (w1,t1), (w2,t2), (w3,t3) in nltk.trigrams(tagged_sent):\n",
    "        if t2 == \"DET\" and t3.startswith('NN'):\n",
    "            print(w1, w2, w3)\n"
   ]
  },
  {
   "cell_type": "code",
   "execution_count": 17,
   "id": "4e21a3bd",
   "metadata": {},
   "outputs": [],
   "source": [
    "## Lydia\n",
    "\n",
    "## Lydia\n",
    "\n",
    "import nltk\n",
    "from nltk.corpus import brown\n",
    "for tagged_sent in brown.tagged_sents():\n",
    "    for (w1,t1), (w2,t2), (w3,t3) in nltk.trigrams(tagged_sent):\n",
    "        if t1 == \"IN\" and t2 == \"DET\" and t3.startswith(\"NN\"):\n",
    "            print(w1, w2, w3)"
   ]
  },
  {
   "cell_type": "code",
   "execution_count": null,
   "id": "2f0650fd",
   "metadata": {
    "slideshow": {
     "slide_type": "fragment"
    }
   },
   "outputs": [],
   "source": [
    "nltk.help.upenn_tagset()"
   ]
  },
  {
   "cell_type": "markdown",
   "id": "62d95816",
   "metadata": {
    "slideshow": {
     "slide_type": "slide"
    }
   },
   "source": [
    "# Group exercise! Find the following in the Brown corpus:\n",
    "\n",
    "1. All the determiner-adjective-noun sequences\n",
    "2. The count of each verb tense\n",
    "3. Percentage of adjectives that are comparative"
   ]
  },
  {
   "cell_type": "markdown",
   "id": "43db0479",
   "metadata": {
    "slideshow": {
     "slide_type": "slide"
    }
   },
   "source": [
    "## 1. All the determiner-adjective-noun sequences"
   ]
  },
  {
   "cell_type": "code",
   "execution_count": 29,
   "id": "ea2a7087",
   "metadata": {
    "slideshow": {
     "slide_type": "fragment"
    }
   },
   "outputs": [
    {
     "name": "stdout",
     "output_type": "stream",
     "text": [
      "this disturbing crime\n",
      "another major stand\n",
      "this historic square\n",
      "this two-year term\n",
      "another splendid effort\n",
      "another all-out guy\n",
      "another 5-run explosion\n",
      "this early season\n",
      "That darlin' dazzler\n",
      "This mad world\n",
      "that magic place\n",
      "this fine tradition\n",
      "this little Thrift\n",
      "this regrettable action\n",
      "that historic flight\n",
      "This year-to-year decline\n",
      "this tremendous volume\n",
      "That 60-day period\n",
      "this cultural center\n",
      "that Mexican food\n",
      "another real estate\n",
      "that old spirit\n",
      "this three-hour film\n",
      "that oft-repeated phrase\n",
      "this untrammeled license\n",
      "that congressional district\n",
      "this remarkable record\n",
      "this great man\n",
      "this ultimate weapon\n",
      "that august body\n",
      "that rare scientist\n",
      "this new park\n",
      "this Braddock-against-the-Indians contest\n",
      "this basic condition\n",
      "this feeble effort\n",
      "this sensitive field\n",
      "Another optimistic sign\n",
      "this budget-altering power\n",
      "each new project\n",
      "this majestic church\n",
      "that big year\n",
      "that big man\n",
      "each autistic child\n",
      "This immature use\n",
      "this grassroots-fueled machine\n",
      "this huge operation\n",
      "another congratulatory message\n",
      "this new translation\n",
      "each new recording\n",
      "this acrobatic dancer\n",
      "this precarious period\n",
      "this particular instance\n",
      "this nuclear age\n",
      "this nuclear arms\n",
      "this mad race\n",
      "that little piece\n",
      "this small way\n",
      "this small way\n",
      "each successive fatality\n",
      "another remarkable act\n",
      "another religious persuasion\n",
      "That Aristotelean-Thomistic principle\n",
      "This prime element\n",
      "this uni-directional paralysis\n",
      "that interminable document\n",
      "this governmental monstrosity\n",
      "this able brief\n",
      "this late date\n",
      "this amazing world\n",
      "this critical field\n",
      "that preposterous manse\n",
      "this mutual education\n",
      "this poignant man\n",
      "this musical field\n",
      "Each high note\n",
      "this new recording\n",
      "that pale sustenance\n",
      "that short role\n",
      "that adorable genius\n",
      "this brief animal\n",
      "this unhappy scheme\n",
      "This fascinating story\n",
      "that truant lock\n",
      "this unenviable spot\n",
      "this religious aspect\n",
      "this urgent visage\n",
      "this challenging concerto\n",
      "this mystic bond\n",
      "each new production\n",
      "this healthy change\n",
      "This slim book\n",
      "that subtle vanity\n",
      "another brilliant showpiece\n",
      "this aural void\n",
      "that inaugural program\n",
      "This French film\n",
      "this dismal denouement\n",
      "this invincible determination\n",
      "that true unity\n",
      "this great task\n",
      "this important sector\n",
      "this new picture\n",
      "this present-day venture\n",
      "this Catholic hope\n",
      "each historical event\n",
      "this near tragedy\n",
      "that liberal world\n",
      "that empty peace\n",
      "that spiritual hunger\n",
      "that great event\n",
      "This whole tendency\n",
      "each new member\n",
      "this momentous experience\n",
      "each new member\n",
      "each new member\n",
      "each new member\n",
      "Another major church\n",
      "this dynamic process\n",
      "this constitutional enactment\n",
      "this evil result\n",
      "this new vision\n",
      "this new power\n",
      "that metallic ball\n",
      "this new uranium\n",
      "this atomic nucleus\n",
      "this new picture\n",
      "this timeless unity\n",
      "this different orientation\n",
      "this esoteric doctrine\n",
      "this new nature\n",
      "this vigorous exercise\n",
      "this fine exercise\n",
      "this fine exercise\n",
      "That cold frame\n",
      "that late winter\n",
      "each separate branch\n",
      "that delightful quality\n",
      "that post-attack reconnaissance\n",
      "this bargain-priced disc\n",
      "another home-bred product\n",
      "This thoughtful gesture\n",
      "this unfair judging\n",
      "each new canine\n",
      "this free instruction\n",
      "this particular frame\n",
      "another good individual\n",
      "another promising colt\n",
      "another fine-looking equine\n",
      "this little 20-inch-barrel\n",
      "this original sauce\n",
      "Another scenic spot\n",
      "another unique aspect\n",
      "another small court\n",
      "each skinless frankfurter\n",
      "This two-part bridge\n",
      "this world-wide conscription\n",
      "this historical feat\n",
      "this English master\n",
      "this early stage\n",
      "this linear draft\n",
      "that final quality\n",
      "this novel technique\n",
      "this new technique\n",
      "This original capsule\n",
      "this novel arrangement\n",
      "this onward-driving contest\n",
      "this quixotic genius\n",
      "this promising line\n",
      "this fast-growing type\n",
      "each major account\n",
      "This anomalous status\n",
      "this classical pattern\n",
      "This whole development\n",
      "that old coolant\n",
      "another new development\n",
      "this complex field\n",
      "that wanting-to-be-alone feeling\n",
      "this additional insurance\n",
      "This basic principle\n",
      "this seven-word sentence\n",
      "this high-powered battery\n",
      "another emotional death\n",
      "another emotional death\n",
      "that old handmaiden\n",
      "that filthy stuff\n",
      "this particular gathering\n",
      "that weird feeling\n",
      "that weird feeling\n",
      "that identical convention\n",
      "this procreative function\n",
      "this inner image\n",
      "this anatomical information\n",
      "another quaint habit\n",
      "this modern witch\n",
      "each front tooth\n",
      "This serious condition\n",
      "this beyond-normal ability\n",
      "each little item\n",
      "this historical trial\n",
      "This epic effort\n",
      "that unfortunate establishment\n",
      "this arduous journey\n",
      "another propagandistic legend\n",
      "this diversionary attack\n",
      "This ignorant estimate\n",
      "that vast land\n",
      "that Communist government\n",
      "this little world\n",
      "this large group\n",
      "that special badge\n",
      "Another frequent pioneer\n",
      "Another common cure\n",
      "this southern hospitality\n",
      "This carefree disdain\n",
      "this long gap\n",
      "another vicious circle\n",
      "This nondrying oil\n",
      "another nondrying oil\n",
      "this carefree sentence\n",
      "that thick growth\n",
      "this strange creature\n",
      "This new position\n",
      "that particular place\n",
      "this young man\n",
      "this powerful indictment\n",
      "that extra touch\n",
      "This circular edifice\n",
      "This perpetual justification\n",
      "this political assassination\n",
      "this dark chapter\n",
      "another busy day\n",
      "another specific signal\n",
      "this fantastic city\n",
      "this anonymous folk\n",
      "this true lover's\n",
      "this special affinity\n",
      "This new force\n",
      "that senior statesman\n",
      "this strong upsurge\n",
      "this new context\n",
      "this new coat\n",
      "This bold self-assertion\n",
      "this crass evidence\n",
      "this phenomenal modernization\n",
      "this vital point\n",
      "this fine point\n",
      "this life-death question\n",
      "this brief moment\n",
      "this sexual revolution\n",
      "this disaffiliated generation\n",
      "This strange person\n",
      "this little anecdote\n",
      "this terrible war\n",
      "that great symbol\n",
      "that fair land\n",
      "this final line\n",
      "That little spark\n",
      "That little spark\n",
      "This restless individualism\n",
      "this unpromising background\n",
      "this curious blend\n",
      "this idyllic arrangement\n",
      "this fatal embrace\n",
      "this fatal dilemma\n",
      "This organizational network\n",
      "this early enthusiasm\n",
      "that utopian outlook\n",
      "This favorable image\n",
      "this new image\n",
      "this human beings\n",
      "this natural instrument\n",
      "this questionable attitude\n",
      "this personal matter\n",
      "that psychological status\n",
      "another bad habit\n",
      "each planetary deferent\n",
      "that popular story\n",
      "this strange warfare\n",
      "another destructive fire\n",
      "that particular message\n",
      "this great poet\n",
      "that subtle instrument\n",
      "this titanic challenge\n",
      "this great project\n",
      "this destructive power\n",
      "this 195-page document\n",
      "this simple fare\n",
      "that young Gentleman\n",
      "this final section\n",
      "that supreme sense\n",
      "That unused room\n",
      "that odd matter\n",
      "that young man\n",
      "this new experience\n",
      "this spontaneous provincialism\n",
      "this independent man\n",
      "this modest masterpiece\n",
      "that spontaneous immodesty\n",
      "that personal contact\n",
      "each sizable stream\n",
      "this new friendship\n",
      "this frank explanation\n",
      "this careful reading\n",
      "Another beautiful building\n",
      "Another classic sight\n",
      "that imcomparable work\n",
      "This agreeable state\n",
      "this perfidious slanderer\n",
      "This warm relationship\n",
      "this political windfall\n",
      "this new battle\n",
      "that alert colony\n",
      "this long siege\n",
      "This intellectual approach\n",
      "this subtle influence\n",
      "that classical defense\n",
      "this early quarrel\n",
      "that small party\n",
      "another telling round\n",
      "This lofty disregard\n",
      "This huge hulk\n",
      "this technological revolution\n",
      "this picturesque narrative\n",
      "This enviable record\n",
      "this great change\n",
      "this tremendous change\n",
      "that ordinary allowance\n",
      "another indispensable tool\n",
      "this basic trait\n",
      "this dogmatic characteristic\n",
      "this particular deficiency\n",
      "this human incompetence\n",
      "that lovable man\n",
      "that wonderful man\n",
      "that long novel\n",
      "that horrible spectacle\n",
      "this baffling passage\n",
      "this Latin banter\n",
      "that famous passage\n",
      "that short piece\n",
      "this cause-and-effect universe\n",
      "that utopian literature\n",
      "that unblemished record\n",
      "this particular issue\n",
      "This central episode\n",
      "This new vision\n",
      "that human mystery\n",
      "Another powerful factor\n",
      "this national sentiment\n",
      "that awful charge\n",
      "that slight rise\n",
      "this forward perspective\n",
      "this great man\n",
      "this humane gentleman\n",
      "this parliamentary giant\n",
      "this humble tribute\n",
      "this great Speaker\n",
      "this great legislator\n",
      "this new management\n",
      "This financial assistance\n",
      "that particular kind\n",
      "another common sense\n",
      "this outstanding week\n",
      "this unusual event\n",
      "this great country\n",
      "each regular session\n",
      "this joint resolution\n",
      "this joint resolution\n",
      "this joint resolution\n",
      "Another recent achievement\n",
      "another important combustion\n",
      "each national laboratory\n",
      "this important service\n",
      "this voluminous record\n",
      "each annual distribution\n",
      "this particular point\n",
      "This temporary Peace\n",
      "this urgent need\n",
      "this new State\n",
      "This broad delegation\n",
      "this automatic extension\n",
      "this automatic extension\n",
      "this automatic extension\n",
      "that individual freedom\n",
      "another basic production\n",
      "this basic tool\n",
      "that famous trademark\n",
      "this necessary increase\n",
      "This new machine\n",
      "another substantial increase\n",
      "another good increase\n",
      "another good year\n",
      "This sporadic type\n",
      "This small pore\n",
      "this hot region\n",
      "this negative head\n",
      "This negative pressure\n",
      "This large discrepancy\n",
      "Another important source\n",
      "Each male willow\n",
      "each individual flower\n",
      "that famous pollen-and-nectar\n",
      "this gruesome interlude\n",
      "this crucial stage\n",
      "this close relationship\n",
      "This pleural supply\n",
      "this bronchial artery\n",
      "this general relationship\n",
      "this abnormal TSH\n",
      "This specific fluorescence\n",
      "this brief discussion\n",
      "this reciprocal relation\n",
      "this differential equation\n",
      "each possible outcome\n",
      "this random variable\n",
      "Each binomial trial\n",
      "each binomial trial\n",
      "Another great danger\n"
     ]
    },
    {
     "name": "stdout",
     "output_type": "stream",
     "text": [
      "this relationship-building stage\n",
      "another prominent feature\n",
      "this particular population\n",
      "this supportive relationship\n",
      "this social distance\n",
      "this social control\n",
      "another important aspect\n",
      "This experimental class\n",
      "this special class\n",
      "this democratic procedure\n",
      "this additional information\n",
      "this particular manager\n",
      "this particular roleplaying\n",
      "another schizophrenic patient\n",
      "each distinct form\n",
      "each phonologic fact\n",
      "this abstract model\n",
      "this average cost\n",
      "this basic wage\n",
      "this Hegelian abstraction\n",
      "this crucial federal-state\n",
      "this crucial point\n",
      "another excess profits\n",
      "this comparative analysis\n",
      "this economic struggle\n",
      "This past year\n",
      "Each new teacher\n",
      "this American democracy\n",
      "another social class\n",
      "another upward-mobile teacher\n",
      "Another public interest\n",
      "this threefold division\n",
      "each social science\n",
      "this neutral object\n",
      "this fundamental question\n",
      "that solid basis\n",
      "this marvelous product\n",
      "another low bluff\n",
      "that dreary solemnity\n",
      "this Stoic-patristic view\n",
      "this fearful tragedy\n",
      "this undepicted flatness\n",
      "that vigorous inheritance\n",
      "this lifelike quality\n",
      "another sudden change\n",
      "that universal struggle\n",
      "each new customer\n",
      "This unusual collagen\n",
      "another natural glass\n",
      "this general principle\n",
      "this important work\n",
      "this experimental tube\n",
      "each new sound\n",
      "this short distance\n",
      "that stone-gray mystery\n",
      "This young man\n",
      "this religious center\n",
      "That goddamn redheader\n",
      "this Parisian age\n",
      "that brief interval\n",
      "that painful solicitude\n",
      "that misty gray\n",
      "this heavy air\n",
      "that vile creature\n",
      "that lush garden\n",
      "this full-grown man\n",
      "this old fox\n",
      "another black eye\n",
      "this big house\n",
      "this handsome booby\n",
      "this apocalyptic beast\n",
      "this long night\n",
      "this black hole\n",
      "that smooth face\n",
      "this guileless manner\n",
      "that brief interview\n",
      "this little adventure\n",
      "this lonely woman\n",
      "Each successive movement\n",
      "that dry crack\n",
      "this broken-nosed man\n",
      "this half-grown kid\n",
      "another important fact\n",
      "this big house\n",
      "that fool picture\n",
      "that dull borough\n",
      "another sidelong glance\n",
      "that threatening letter\n",
      "another dim bulb\n",
      "this underground vault\n",
      "another hot day\n",
      "that Yankee cavalry\n",
      "another curious shock\n",
      "this early stage\n",
      "that ridiculous hat\n",
      "that childish horn\n",
      "that crazy opinion\n",
      "that old sign\n",
      "That damn door\n",
      "this past year\n",
      "this alien element\n",
      "that particular suite\n",
      "this sad story\n",
      "that lousy landlord\n",
      "each tiny crystal\n",
      "that stupid jackass\n",
      "that enormous light\n",
      "this happy event\n",
      "that fat face\n",
      "this glorious voyage\n",
      "This fiery swath\n",
      "This old world\n",
      "another long pause\n",
      "this demoniac possession\n",
      "this evil place\n",
      "that stupid clowning\n",
      "another gut-flattening blow\n",
      "that small happening\n",
      "That long ride\n",
      "This dirty coward\n",
      "this goddamn climate\n",
      "this unfamiliar territory\n",
      "this small box\n",
      "that slow pace\n",
      "this meek conjugation\n",
      "That long night\n",
      "that great foundling\n",
      "this pathless trail\n",
      "this interminable bailing\n",
      "that barefoot courtliness\n",
      "that black bastard\n",
      "that filthy snake\n",
      "this strange marriage\n",
      "this hot weather\n",
      "This young slave\n",
      "Another young man\n",
      "That poor boy\n",
      "that simple fact\n",
      "this handsome house\n",
      "this new Jockey\n",
      "this sentimental duty\n",
      "this old man's\n",
      "this impossible conversation\n",
      "This tragic lad\n",
      "that warm rain\n",
      "that ghastly outcry\n",
      "this harsh appraisal\n",
      "that final decision\n",
      "that old defiance\n",
      "that double-married man\n",
      "that effete gentleman\n",
      "this freakish wreck\n",
      "this ridiculous costume\n",
      "that big bundle\n",
      "that long row\n",
      "That stupid girl\n",
      "this sad person\n",
      "that new toothbrush\n",
      "that frightful woman\n",
      "this magnificent man\n",
      "this fine group\n",
      "this miserable cold\n",
      "That pale kind's\n",
      "That pale kind\n",
      "that peaked kind\n",
      "that transparent flesh\n",
      "that solemn mouth\n",
      "that good soil\n",
      "that frenetic pirouette\n",
      "that clear mind\n",
      "this suburban frontier\n",
      "this unparalleled intrusion\n",
      "this turbulent period\n",
      "that pretty girl\n",
      "This baffling lack\n",
      "that silly way\n",
      "this small lie\n",
      "this nice lady\n",
      "This happy bulletin\n",
      "that nebulous area\n",
      "this theatrical vine\n",
      "This brief resume\n",
      "this young man's\n"
     ]
    }
   ],
   "source": [
    "for tagged_sent in brown.tagged_sents():\n",
    "    for (w1,t1), (w2,t2), (w3,t3) in nltk.trigrams(tagged_sent):\n",
    "        if (t1 == \"DT\" and t2 == \"JJ\" and t3.startswith(\"NN\")):\n",
    "            print(w1, w2, w3)"
   ]
  },
  {
   "cell_type": "markdown",
   "id": "21757c6f",
   "metadata": {
    "slideshow": {
     "slide_type": "slide"
    }
   },
   "source": [
    "## 2. The count of each verb tense"
   ]
  },
  {
   "cell_type": "code",
   "execution_count": 3,
   "id": "525f2dbc",
   "metadata": {
    "slideshow": {
     "slide_type": "fragment"
    }
   },
   "outputs": [
    {
     "name": "stdout",
     "output_type": "stream",
     "text": [
      "       VB       VBN       VBD       VBG       VBZ    VBN-TL    VBG-HL    VBN-HL    VBG-TL     VB-HL     VB-TL    VBZ-HL    VB+PPO     VB-NC    VBZ-TL    VBG+TO    VBG-NC    VBD-NC    VBN-NC    VBD-HL    VBZ-NC VBN-TL-HL    VBD-TL    VBN+TO     VB+TO     VB+IN VBN-TL-NC     VB+RP     VB+AT  VB+JJ-NC  VB+VB-NC \n",
      "    33693     29186     26167     17893      7373       591       146       137       133       125        96        72        71        41        17        17        16        11         9         8         7         6         6         5         4         3         3         2         2         1         1 \n"
     ]
    }
   ],
   "source": [
    "brown_tagged = nltk.corpus.brown.tagged_words()\n",
    "verbs = [b for (a, b) in brown_tagged if b.startswith(\"VB\")]\n",
    "verbFreq = nltk.FreqDist(verbs)\n",
    "verbFreq.tabulate()"
   ]
  },
  {
   "cell_type": "code",
   "execution_count": 9,
   "id": "1e82cbda",
   "metadata": {},
   "outputs": [
    {
     "name": "stdout",
     "output_type": "stream",
     "text": [
      "   RP    IN    VB RP-HL    JJ    NN \n",
      "  693   190     2     1     1     1 \n"
     ]
    }
   ],
   "source": [
    "brown_tagged = nltk.corpus.brown.tagged_words()\n",
    "verbs = [b for (a, b) in brown_tagged if a == \"down\"]\n",
    "verbFreq = nltk.FreqDist(verbs)\n",
    "verbFreq.tabulate()"
   ]
  },
  {
   "cell_type": "code",
   "execution_count": 34,
   "id": "6eb68b2c",
   "metadata": {
    "slideshow": {
     "slide_type": "fragment"
    }
   },
   "outputs": [
    {
     "data": {
      "text/plain": [
       "[\"G'ahn\", \"C'mon\"]"
      ]
     },
     "execution_count": 34,
     "metadata": {},
     "output_type": "execute_result"
    }
   ],
   "source": [
    "[a for (a, b) in brown_tagged if b == \"VB+RP\"]"
   ]
  },
  {
   "cell_type": "markdown",
   "id": "f1b1b578",
   "metadata": {
    "slideshow": {
     "slide_type": "slide"
    }
   },
   "source": [
    "## 3. How many adjectives are comparative?"
   ]
  },
  {
   "cell_type": "code",
   "execution_count": 35,
   "id": "71cc77cb",
   "metadata": {
    "slideshow": {
     "slide_type": "fragment"
    }
   },
   "outputs": [
    {
     "name": "stdout",
     "output_type": "stream",
     "text": [
      "0.027196710837014196\n"
     ]
    }
   ],
   "source": [
    "brown_tagged = nltk.corpus.brown.tagged_words()\n",
    "adj = [b for (a, b) in brown_tagged if b.startswith(\"JJ\")]\n",
    "adj_comp = [b for (a, b) in brown_tagged if b == \"JJR\"]\n",
    "print(len(adj_comp)/len(adj))"
   ]
  },
  {
   "cell_type": "markdown",
   "id": "d55158df",
   "metadata": {
    "slideshow": {
     "slide_type": "slide"
    }
   },
   "source": [
    "# Tagging languages other than English\n",
    "* Not much support in NLTK\n",
    "    * Although pre-tagged corpora exist in other languages\n",
    "* What happens if I try to tag text in Spanish? Predictions?"
   ]
  },
  {
   "cell_type": "code",
   "execution_count": 36,
   "id": "b17b4d78",
   "metadata": {
    "slideshow": {
     "slide_type": "fragment"
    }
   },
   "outputs": [
    {
     "data": {
      "text/plain": [
       "[('Jersei', 'N'), ('atinge', 'V'), ('média', 'N'), ...]"
      ]
     },
     "execution_count": 36,
     "metadata": {},
     "output_type": "execute_result"
    }
   ],
   "source": [
    "nltk.corpus.mac_morpho.tagged_words()"
   ]
  },
  {
   "cell_type": "code",
   "execution_count": 38,
   "id": "d51194f0",
   "metadata": {
    "slideshow": {
     "slide_type": "fragment"
    }
   },
   "outputs": [
    {
     "name": "stdout",
     "output_type": "stream",
     "text": [
      "['The', 'big', 'dog', 'eats', 'the', 'food']\n"
     ]
    }
   ],
   "source": [
    "eng = \"The big dog eats the food\"\n",
    "from nltk.tokenize import word_tokenize\n",
    "eng_token = word_tokenize(eng)\n",
    "print(eng_token)"
   ]
  },
  {
   "cell_type": "code",
   "execution_count": 39,
   "id": "ee5b69aa",
   "metadata": {
    "slideshow": {
     "slide_type": "fragment"
    }
   },
   "outputs": [
    {
     "data": {
      "text/plain": [
       "[('The', 'DT'),\n",
       " ('big', 'JJ'),\n",
       " ('dog', 'NN'),\n",
       " ('eats', 'VBZ'),\n",
       " ('the', 'DT'),\n",
       " ('food', 'NN')]"
      ]
     },
     "execution_count": 39,
     "metadata": {},
     "output_type": "execute_result"
    }
   ],
   "source": [
    "nltk.pos_tag(eng_token)"
   ]
  },
  {
   "cell_type": "code",
   "execution_count": 40,
   "id": "21205ee9",
   "metadata": {
    "scrolled": true,
    "slideshow": {
     "slide_type": "slide"
    }
   },
   "outputs": [
    {
     "name": "stdout",
     "output_type": "stream",
     "text": [
      "['El', 'perro', 'grande', 'come', 'la', 'comida']\n"
     ]
    }
   ],
   "source": [
    "esp = \"El perro grande come la comida\"\n",
    "esp_token = word_tokenize(esp)\n",
    "print(esp_token)"
   ]
  },
  {
   "cell_type": "code",
   "execution_count": 41,
   "id": "e95d5f4a",
   "metadata": {
    "slideshow": {
     "slide_type": "fragment"
    }
   },
   "outputs": [
    {
     "data": {
      "text/plain": [
       "[('El', 'NNP'),\n",
       " ('perro', 'NN'),\n",
       " ('grande', 'NN'),\n",
       " ('come', 'VBP'),\n",
       " ('la', 'NN'),\n",
       " ('comida', 'NN')]"
      ]
     },
     "execution_count": 41,
     "metadata": {},
     "output_type": "execute_result"
    }
   ],
   "source": [
    "nltk.pos_tag(esp_token)"
   ]
  },
  {
   "cell_type": "markdown",
   "id": "0c8b708d",
   "metadata": {
    "slideshow": {
     "slide_type": "slide"
    }
   },
   "source": [
    "## We have to train the data!\n",
    "\n",
    "* Resources (outside of NLTK/Python):\n",
    "    * TreeTagger: https://www.cis.lmu.de/~schmid/tools/TreeTagger/\n",
    "\n",
    "* What happens when we don't have the data to train?\n",
    "    * Many languages do not have an established tagger\n",
    "    \n",
    "* If you're interested, check out Hidden Markov Models (HMM):\n",
    "    * How to predict based on _unseen_ characteristics of words"
   ]
  },
  {
   "cell_type": "markdown",
   "id": "7f0b887b",
   "metadata": {
    "slideshow": {
     "slide_type": "slide"
    }
   },
   "source": [
    "# Friday: M-side research group meeting\n",
    "* Friday 3:30pm\n",
    "* Devoted to Mesoamerican linguistics (Mexico, Belize, Guatemala, El Salvador, Honduras, Nicaragua, and northern Costa Rica)\n",
    "* Planning for potential research project collaboration for Fall 2022\n",
    "* I will post Zoom link in Sakai"
   ]
  },
  {
   "cell_type": "markdown",
   "id": "54f73261",
   "metadata": {
    "slideshow": {
     "slide_type": "slide"
    }
   },
   "source": [
    "# Next Week: Context Free Grammars\n",
    "* How can we use NLP to analyze syntax?"
   ]
  }
 ],
 "metadata": {
  "celltoolbar": "Slideshow",
  "kernelspec": {
   "display_name": "Python 3",
   "language": "python",
   "name": "python3"
  },
  "language_info": {
   "codemirror_mode": {
    "name": "ipython",
    "version": 3
   },
   "file_extension": ".py",
   "mimetype": "text/x-python",
   "name": "python",
   "nbconvert_exporter": "python",
   "pygments_lexer": "ipython3",
   "version": "3.8.8"
  }
 },
 "nbformat": 4,
 "nbformat_minor": 5
}
